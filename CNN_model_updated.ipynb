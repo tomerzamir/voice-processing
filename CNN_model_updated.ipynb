{
  "cells": [
    {
      "cell_type": "code",
      "execution_count": null,
      "metadata": {
        "id": "JphD-Vck7fPd"
      },
      "outputs": [],
      "source": [
        "import numpy as np\n",
        "import pandas as pd\n",
        "from keras import optimizers, losses, activations, models\n",
        "from keras.layers import Activation\n",
        "from keras.callbacks import ModelCheckpoint, EarlyStopping, LearningRateScheduler\n",
        "from keras.layers import Dense, Input, Dropout, Convolution1D, MaxPool1D, GlobalMaxPool1D, GlobalAveragePooling1D,concatenate,BatchNormalization\n",
        "from keras import regularizers\n",
        "from keras.regularizers import l2\n",
        "from keras.regularizers import l1_l2\n",
        "from sklearn.preprocessing import StandardScaler,MinMaxScaler,RobustScaler\n",
        "import librosa\n",
        "#from playsound import playsound\n",
        "from tensorflow import keras\n",
        "import tensorflow as tf\n",
        "import glob\n",
        "import os\n",
        "#import noisereduce as nr\n",
        "from keras.callbacks import ReduceLROnPlateau\n",
        "import matplotlib.pyplot as plt\n",
        "\n",
        "from sklearn.metrics import f1_score,recall_score,accuracy_score\n",
        "from sklearn.model_selection import train_test_split\n",
        "from tqdm import tqdm"
      ]
    },
    {
      "cell_type": "code",
      "execution_count": null,
      "metadata": {
        "colab": {
          "base_uri": "https://localhost:8080/"
        },
        "id": "IaFSHkBC7fPl",
        "outputId": "3c51401d-f085-4ee3-84f3-d77cbd821b10"
      },
      "outputs": [
        {
          "output_type": "stream",
          "name": "stdout",
          "text": [
            "Mounted at /content/gdrive\n"
          ]
        }
      ],
      "source": [
        "#df=pd.read_csv(\"recordings-diagnosis.csv\")\n",
        "from google.colab import drive\n",
        "drive.mount('/content/gdrive')"
      ]
    },
    {
      "cell_type": "code",
      "source": [
        "df = pd.read_csv('/content/gdrive/MyDrive/CS/third year/semester e/Voice Processing/mPower data/recordings-diagnosis.csv')\n",
        "Features = pd.read_csv('/content/gdrive/MyDrive/CS/third year/semester e/Voice Processing/Data/15k-features.csv')"
      ],
      "metadata": {
        "id": "vY9VkOof73TG"
      },
      "execution_count": null,
      "outputs": []
    },
    {
      "cell_type": "code",
      "execution_count": null,
      "metadata": {
        "id": "OjjLYDaW7fPm",
        "outputId": "41acb321-df61-4eb4-d3f0-870a68307c96",
        "colab": {
          "base_uri": "https://localhost:8080/",
          "height": 80
        }
      },
      "outputs": [
        {
          "output_type": "execute_result",
          "data": {
            "text/plain": [
              "   professional-diagnosis                                          file_name\n",
              "0                   False  audio_audio.m4a-b68fe4c0-db31-4b39-8f8f-7fb874..."
            ],
            "text/html": [
              "\n",
              "  <div id=\"df-a7382c8c-291f-4250-b301-855278b17959\">\n",
              "    <div class=\"colab-df-container\">\n",
              "      <div>\n",
              "<style scoped>\n",
              "    .dataframe tbody tr th:only-of-type {\n",
              "        vertical-align: middle;\n",
              "    }\n",
              "\n",
              "    .dataframe tbody tr th {\n",
              "        vertical-align: top;\n",
              "    }\n",
              "\n",
              "    .dataframe thead th {\n",
              "        text-align: right;\n",
              "    }\n",
              "</style>\n",
              "<table border=\"1\" class=\"dataframe\">\n",
              "  <thead>\n",
              "    <tr style=\"text-align: right;\">\n",
              "      <th></th>\n",
              "      <th>professional-diagnosis</th>\n",
              "      <th>file_name</th>\n",
              "    </tr>\n",
              "  </thead>\n",
              "  <tbody>\n",
              "    <tr>\n",
              "      <th>0</th>\n",
              "      <td>False</td>\n",
              "      <td>audio_audio.m4a-b68fe4c0-db31-4b39-8f8f-7fb874...</td>\n",
              "    </tr>\n",
              "  </tbody>\n",
              "</table>\n",
              "</div>\n",
              "      <button class=\"colab-df-convert\" onclick=\"convertToInteractive('df-a7382c8c-291f-4250-b301-855278b17959')\"\n",
              "              title=\"Convert this dataframe to an interactive table.\"\n",
              "              style=\"display:none;\">\n",
              "        \n",
              "  <svg xmlns=\"http://www.w3.org/2000/svg\" height=\"24px\"viewBox=\"0 0 24 24\"\n",
              "       width=\"24px\">\n",
              "    <path d=\"M0 0h24v24H0V0z\" fill=\"none\"/>\n",
              "    <path d=\"M18.56 5.44l.94 2.06.94-2.06 2.06-.94-2.06-.94-.94-2.06-.94 2.06-2.06.94zm-11 1L8.5 8.5l.94-2.06 2.06-.94-2.06-.94L8.5 2.5l-.94 2.06-2.06.94zm10 10l.94 2.06.94-2.06 2.06-.94-2.06-.94-.94-2.06-.94 2.06-2.06.94z\"/><path d=\"M17.41 7.96l-1.37-1.37c-.4-.4-.92-.59-1.43-.59-.52 0-1.04.2-1.43.59L10.3 9.45l-7.72 7.72c-.78.78-.78 2.05 0 2.83L4 21.41c.39.39.9.59 1.41.59.51 0 1.02-.2 1.41-.59l7.78-7.78 2.81-2.81c.8-.78.8-2.07 0-2.86zM5.41 20L4 18.59l7.72-7.72 1.47 1.35L5.41 20z\"/>\n",
              "  </svg>\n",
              "      </button>\n",
              "      \n",
              "  <style>\n",
              "    .colab-df-container {\n",
              "      display:flex;\n",
              "      flex-wrap:wrap;\n",
              "      gap: 12px;\n",
              "    }\n",
              "\n",
              "    .colab-df-convert {\n",
              "      background-color: #E8F0FE;\n",
              "      border: none;\n",
              "      border-radius: 50%;\n",
              "      cursor: pointer;\n",
              "      display: none;\n",
              "      fill: #1967D2;\n",
              "      height: 32px;\n",
              "      padding: 0 0 0 0;\n",
              "      width: 32px;\n",
              "    }\n",
              "\n",
              "    .colab-df-convert:hover {\n",
              "      background-color: #E2EBFA;\n",
              "      box-shadow: 0px 1px 2px rgba(60, 64, 67, 0.3), 0px 1px 3px 1px rgba(60, 64, 67, 0.15);\n",
              "      fill: #174EA6;\n",
              "    }\n",
              "\n",
              "    [theme=dark] .colab-df-convert {\n",
              "      background-color: #3B4455;\n",
              "      fill: #D2E3FC;\n",
              "    }\n",
              "\n",
              "    [theme=dark] .colab-df-convert:hover {\n",
              "      background-color: #434B5C;\n",
              "      box-shadow: 0px 1px 3px 1px rgba(0, 0, 0, 0.15);\n",
              "      filter: drop-shadow(0px 1px 2px rgba(0, 0, 0, 0.3));\n",
              "      fill: #FFFFFF;\n",
              "    }\n",
              "  </style>\n",
              "\n",
              "      <script>\n",
              "        const buttonEl =\n",
              "          document.querySelector('#df-a7382c8c-291f-4250-b301-855278b17959 button.colab-df-convert');\n",
              "        buttonEl.style.display =\n",
              "          google.colab.kernel.accessAllowed ? 'block' : 'none';\n",
              "\n",
              "        async function convertToInteractive(key) {\n",
              "          const element = document.querySelector('#df-a7382c8c-291f-4250-b301-855278b17959');\n",
              "          const dataTable =\n",
              "            await google.colab.kernel.invokeFunction('convertToInteractive',\n",
              "                                                     [key], {});\n",
              "          if (!dataTable) return;\n",
              "\n",
              "          const docLinkHtml = 'Like what you see? Visit the ' +\n",
              "            '<a target=\"_blank\" href=https://colab.research.google.com/notebooks/data_table.ipynb>data table notebook</a>'\n",
              "            + ' to learn more about interactive tables.';\n",
              "          element.innerHTML = '';\n",
              "          dataTable['output_type'] = 'display_data';\n",
              "          await google.colab.output.renderOutput(dataTable, element);\n",
              "          const docLink = document.createElement('div');\n",
              "          docLink.innerHTML = docLinkHtml;\n",
              "          element.appendChild(docLink);\n",
              "        }\n",
              "      </script>\n",
              "    </div>\n",
              "  </div>\n",
              "  "
            ]
          },
          "metadata": {},
          "execution_count": 4
        }
      ],
      "source": [
        "df.head(1)"
      ]
    },
    {
      "cell_type": "code",
      "execution_count": null,
      "metadata": {
        "id": "YjtQHPH17fPn",
        "outputId": "c97419ec-5b09-43e4-c010-11e370d70ae8",
        "colab": {
          "base_uri": "https://localhost:8080/"
        }
      },
      "outputs": [
        {
          "output_type": "execute_result",
          "data": {
            "text/plain": [
              "True     39271\n",
              "False    22785\n",
              "Name: professional-diagnosis, dtype: int64"
            ]
          },
          "metadata": {},
          "execution_count": 5
        }
      ],
      "source": [
        "df['professional-diagnosis'].value_counts()"
      ]
    },
    {
      "cell_type": "code",
      "execution_count": null,
      "metadata": {
        "id": "LH3rfBuB7fPo"
      },
      "outputs": [],
      "source": [
        "files_dir= \"wav_files\""
      ]
    },
    {
      "cell_type": "code",
      "execution_count": null,
      "metadata": {
        "id": "1DCx2e5V7fPo"
      },
      "outputs": [],
      "source": [
        "class CFG:\n",
        "    # batch_size and epochs\n",
        "    batch_size = 64\n",
        "    epochs = 50\n",
        "    patience = 35 \n",
        "    patience_for_plato = 10\n",
        "    model = 1 # 1 for Regular model. 2 for Resnet model. 3 for Attention model\n",
        "    feature_extract_train = False # To create new data\n",
        "    feature_extract_test = False\n",
        "    load_weights = True\n",
        "    save_weights = False"
      ]
    },
    {
      "cell_type": "code",
      "execution_count": null,
      "metadata": {
        "id": "ltg3m_Sx7fPp"
      },
      "outputs": [],
      "source": [
        "# data =[]\n",
        "# for path in os.listdir(files_dir):\n",
        "#     isPD = df[\"professional-diagnosis\"].loc[df[\"file_name\"]==path].values[0]\n",
        "#     data.append(Audio_File(os.path.join(files_dir,path),isPD))"
      ]
    },
    {
      "cell_type": "markdown",
      "metadata": {
        "id": "1fMQLLxd7fPq"
      },
      "source": [
        "# Data Augmentation\n",
        "\n",
        "* Data augmentation is the process by which we create new synthetic data samples by adding small perturbations on our initial training set.\n",
        "\n",
        "* To generate syntactic data for audio, we can apply noise injection, shifting time, changing pitch and speed.\n",
        "\n",
        "* The objective is to make our model invariant to those perturbations and enhace its ability to generalize.\n",
        "\n",
        "* In order to this to work adding the perturbations must conserve the same label as the original training sample.\n",
        "* In images data augmention can be performed by shifting the image, zooming, rotating ...\n",
        "\n",
        "First, let's check which augmentation techniques works better for our dataset."
      ]
    },
    {
      "cell_type": "code",
      "execution_count": null,
      "metadata": {
        "id": "Pqcqh8tw7fPs"
      },
      "outputs": [],
      "source": [
        "def noise(data):\n",
        "    noise_amp = 0.035*np.random.uniform()*np.amax(data)\n",
        "    data = data + noise_amp*np.random.normal(size=data.shape[0])\n",
        "    return data\n",
        "\n",
        "def stretch(data, rate=0.8):\n",
        "    return librosa.effects.time_stretch(data, rate)\n",
        "\n",
        "def shift(data):\n",
        "    shift_range = int(np.random.uniform(low=-5, high = 5)*1000)\n",
        "    return np.roll(data, shift_range)\n",
        "\n",
        "def pitch(data, sampling_rate, pitch_factor=0.7):\n",
        "    return librosa.effects.pitch_shift(data, sampling_rate, pitch_factor)\n",
        "\n",
        "# taking any example and checking for techniques.\n",
        "path = '/content/gdrive/MyDrive/CS/third year/semester e/Voice Processing/Data/sample.wav'\n",
        "data, sample_rate = librosa.load(path)"
      ]
    },
    {
      "cell_type": "code",
      "source": [
        "data"
      ],
      "metadata": {
        "colab": {
          "base_uri": "https://localhost:8080/"
        },
        "id": "VqURGkbr-1QF",
        "outputId": "becb9285-978b-4398-ffcd-2e028c70e427"
      },
      "execution_count": null,
      "outputs": [
        {
          "output_type": "execute_result",
          "data": {
            "text/plain": [
              "array([0.00057509, 0.00098759, 0.00088838, ..., 0.00280021, 0.0022276 ,\n",
              "       0.00196877], dtype=float32)"
            ]
          },
          "metadata": {},
          "execution_count": 10
        }
      ]
    },
    {
      "cell_type": "code",
      "source": [
        "sample_rate"
      ],
      "metadata": {
        "colab": {
          "base_uri": "https://localhost:8080/"
        },
        "id": "TLSQKZhp-28T",
        "outputId": "2a198547-c2e8-45f2-b570-900ef5112c74"
      },
      "execution_count": null,
      "outputs": [
        {
          "output_type": "execute_result",
          "data": {
            "text/plain": [
              "22050"
            ]
          },
          "metadata": {},
          "execution_count": 11
        }
      ]
    },
    {
      "cell_type": "markdown",
      "metadata": {
        "id": "60Zhr_1Z7fPt"
      },
      "source": [
        "## Feature Extraction\n",
        "- Extraction of features is a very important part in analyzing and finding relations between different things. As we already know that the data provided of audio cannot be understood by the models directly so we need to convert them into an understandable format for which feature extraction is used.\n",
        "\n",
        "\n",
        "The audio signal is a three-dimensional signal in which three axes represent time, amplitude and frequency.\n",
        "\n",
        "![image.png](https://miro.medium.com/max/633/1*7sKM9aECRmuoqTadCYVw9A.jpeg)\n",
        "\n",
        "I am no expert on audio signals and feature extraction on audio files so i need to search and found a very good blog written by [Askash Mallik](https://medium.com/heuristics/audio-signal-feature-extraction-and-clustering-935319d2225) on feature extraction.\n",
        "\n",
        "As stated there with the help of the sample rate and the sample data, one can perform several transformations on it to extract valuable features out of it.\n",
        "1. Zero Crossing Rate : The rate of sign-changes of the signal during the duration of a particular frame.\n",
        "2. Energy : The sum of squares of the signal values, normalized by the respective frame length.\n",
        "3. Entropy of Energy : The entropy of sub-frames’ normalized energies. It can be interpreted as a measure of abrupt changes.\n",
        "4. Spectral Centroid : The center of gravity of the spectrum.\n",
        "5. Spectral Spread : The second central moment of the spectrum.\n",
        "6. Spectral Entropy :  Entropy of the normalized spectral energies for a set of sub-frames.\n",
        "7. Spectral Flux : The squared difference between the normalized magnitudes of the spectra of the two successive frames.\n",
        "8. Spectral Rolloff : The frequency below which 90% of the magnitude distribution of the spectrum is concentrated.\n",
        "9.  MFCCs Mel Frequency Cepstral Coefficients form a cepstral representation where the frequency bands are not linear but distributed according to the mel-scale.\n",
        "10. Chroma Vector : A 12-element representation of the spectral energy where the bins represent the 12 equal-tempered pitch classes of western-type music (semitone spacing).\n",
        "11. Chroma Deviation : The standard deviation of the 12 chroma coefficients.\n",
        "\n",
        "\n",
        "In this project i am not going deep in feature selection process to check which features are good for our dataset rather i am only extracting 5 features:\n",
        "- Zero Crossing Rate\n",
        "- Chroma_stft\n",
        "- MFCC\n",
        "- RMS(root mean square) value\n",
        "- MelSpectogram to train our model."
      ]
    },
    {
      "cell_type": "code",
      "execution_count": null,
      "metadata": {
        "id": "Zw1NLIII7fPu"
      },
      "outputs": [],
      "source": [
        "def extract_features(data):\n",
        "    # ZCR\n",
        "    result = np.array([])\n",
        "    zcr = np.mean(librosa.feature.zero_crossing_rate(y=data).T, axis=0)\n",
        "    result=np.hstack((result, zcr)) # stacking horizontally\n",
        "   \n",
        "    # Chroma_stft\n",
        "    stft = np.abs(librosa.stft(data))\n",
        "    chroma_stft = np.mean(librosa.feature.chroma_stft(S=stft, sr=16000).T, axis=0)\n",
        "    result = np.hstack((result, chroma_stft)) # stacking horizontally\n",
        "\n",
        "    # MFCC\n",
        "    mfcc = np.mean(librosa.feature.mfcc(y=data, sr=16000).T, axis=0)\n",
        "    result = np.hstack((result, mfcc)) # stacking horizontally\n",
        "\n",
        "    # Root Mean Square Value\n",
        "    rms = np.mean(librosa.feature.rms(y=data).T, axis=0)\n",
        "    result = np.hstack((result, rms)) # stacking horizontally\n",
        "\n",
        "    # MelSpectogram\n",
        "    mel = np.mean(librosa.feature.melspectrogram(y=data, sr=16000).T, axis=0)\n",
        "    result = np.hstack((result, mel)) # stacking horizontally\n",
        "    \n",
        "\n",
        "    # Spectral Bandwidth\n",
        "    sb = np.mean(librosa.feature.spectral_bandwidth(y=data,sr=16000), axis=0)[:356]\n",
        "    result = np.hstack((result, sb)) # stacking horizontally\n",
        "\n",
        "    # Spectral Centroid\n",
        "    sc = np.mean(librosa.feature.spectral_centroid(y=data,sr=16000), axis=0)[:356]\n",
        "    result = np.hstack((result, sc)) # stacking horizontally\n",
        "   \n",
        "    return result\n",
        "\n",
        "def get_features(path):\n",
        "    # duration and offset are used to take care of the no audio in start and the ending of each audio files as seen above.\n",
        "    data, sample_rate = librosa.load(path, duration=10, offset=0.6)\n",
        "    try:\n",
        "        # without augmentation\n",
        "        res1 = extract_features(data)\n",
        "        result = np.array(res1)\n",
        "        \n",
        "        # data with noise\n",
        "        noise_data = noise(data)\n",
        "        res2 = extract_features(noise_data)\n",
        "        result = np.vstack((result, res2)) # stacking vertically\n",
        "        \n",
        "        # data with stretching and pitching\n",
        "        new_data = stretch(data)\n",
        "        data_stretch_pitch = pitch(new_data, sample_rate)\n",
        "        res3 = extract_features(data_stretch_pitch)\n",
        "        result = np.vstack((result, res3)) # stacking vertically\n",
        "    except Exception as e:\n",
        "        print(e)\n",
        "    return result"
      ]
    },
    {
      "cell_type": "code",
      "execution_count": null,
      "metadata": {
        "id": "lSZ81I7y7fPv"
      },
      "outputs": [],
      "source": [
        "if CFG.feature_extract_train:\n",
        "    X, Y = [], []\n",
        "    for i,file in enumerate(os.listdir(files_dir)[:5000]):\n",
        "        feature = get_features(os.path.join(files_dir,file))\n",
        "        for ele in feature:\n",
        "            X.append(ele)\n",
        "            # appending emotion 3 times as we have made 3 augmentation techniques on each audio file.\n",
        "            Y.append(df[\"professional-diagnosis\"].loc[df[\"file_name\"]==file].values[0])\n",
        "        if(i%100==0):\n",
        "            print(i)\n",
        "    len(X), len(Y)\n",
        "    Features = pd.DataFrame(X)\n",
        "    Features['labels'] = Y\n",
        "    Features.to_csv('features.csv', index=False)\n",
        "    Features.head()"
      ]
    },
    {
      "cell_type": "code",
      "execution_count": null,
      "metadata": {
        "id": "BNLo4bqU7fPw"
      },
      "outputs": [],
      "source": [
        "#Features = pd.read_csv(\"features.csv\")"
      ]
    },
    {
      "cell_type": "markdown",
      "metadata": {
        "id": "E-Sq8YEd7fPw"
      },
      "source": [
        "## Data Preparation\n",
        "\n",
        "- As of now we have extracted the data, now we need to normalize and split our data for training and testing."
      ]
    },
    {
      "cell_type": "code",
      "execution_count": null,
      "metadata": {
        "id": "e-ZJIGQR7fPx"
      },
      "outputs": [],
      "source": [
        "X = Features.iloc[: ,:-1].values\n",
        "Y = Features['labels'].values"
      ]
    },
    {
      "cell_type": "code",
      "execution_count": null,
      "metadata": {
        "id": "AwpJI-yb7fPx",
        "outputId": "910b3635-be49-4cdf-e57c-4999854b3fc1",
        "colab": {
          "base_uri": "https://localhost:8080/"
        }
      },
      "outputs": [
        {
          "output_type": "execute_result",
          "data": {
            "text/plain": [
              "((40500, 874), (40500,), (4500, 874), (4500,))"
            ]
          },
          "metadata": {},
          "execution_count": 16
        }
      ],
      "source": [
        "# splitting data\n",
        "x_train, x_val, y_train, y_val = train_test_split(X, Y, random_state=242,test_size=0.1)\n",
        "x_train.shape, y_train.shape, x_val.shape, y_val.shape"
      ]
    },
    {
      "cell_type": "code",
      "execution_count": null,
      "metadata": {
        "id": "T2aauRyu7fPx",
        "outputId": "c31b2b32-d9c1-47be-beab-4003bc287213",
        "colab": {
          "base_uri": "https://localhost:8080/"
        }
      },
      "outputs": [
        {
          "output_type": "execute_result",
          "data": {
            "text/plain": [
              "((40500, 874), (40500,), (4500, 874), (4500,))"
            ]
          },
          "metadata": {},
          "execution_count": 17
        }
      ],
      "source": [
        "scaler = MinMaxScaler()\n",
        "x_train = scaler.fit_transform(x_train)\n",
        "x_val = scaler.transform(x_val)\n",
        "x_train.shape, y_train.shape, x_val.shape, y_val.shape"
      ]
    },
    {
      "cell_type": "code",
      "execution_count": null,
      "metadata": {
        "id": "D1icmIjV7fPy",
        "outputId": "55e48809-f263-4d85-f378-ecf4bd23d0b0",
        "colab": {
          "base_uri": "https://localhost:8080/"
        }
      },
      "outputs": [
        {
          "output_type": "execute_result",
          "data": {
            "text/plain": [
              "((40500, 874, 1), (40500,), (4500, 874, 1), (4500,))"
            ]
          },
          "metadata": {},
          "execution_count": 18
        }
      ],
      "source": [
        "# making our data compatible to model.\n",
        "x_train = np.expand_dims(x_train, axis=2)\n",
        "x_val = np.expand_dims(x_val, axis=2)\n",
        "x_train.shape, y_train.shape, x_val.shape, y_val.shape"
      ]
    },
    {
      "cell_type": "markdown",
      "metadata": {
        "id": "25I3KJTb7fPy"
      },
      "source": [
        "## Modelling\n"
      ]
    },
    {
      "cell_type": "code",
      "execution_count": null,
      "metadata": {
        "id": "_9n_oD317fPy"
      },
      "outputs": [],
      "source": [
        "\n",
        "def conv1d(x, filters, kernel_size, name, stride=1, activation=tf.nn.elu, padding='SAME'):\n",
        "    return tf.keras.layers.Convolution1D( filters, kernel_size, strides=stride, padding='SAME',name=name,kernel_regularizer=regularizers.L2(0.001))(x)\n",
        "\n",
        "def maxpool1d(x, pool_size, strides, name, padding='SAME'):\n",
        "    return tf.keras.layers.MaxPool1D( pool_size, strides, padding='SAME', name=name)(x)\n",
        "\n",
        "def resblock(x, filters, kernel_size, name):\n",
        "    resblock=conv1d(x, filters, kernel_size, stride=1, name=name+'_conv1')\n",
        "    resblock=tf.keras.layers.BatchNormalization( name=name+'_batch1')(resblock)\n",
        "    resblock=tf.nn.relu(resblock, name=name+'_relu')\n",
        "    resblock=conv1d(resblock, filters, kernel_size, stride=1, name=name+'_conv2')\n",
        "    resblock=tf.keras.layers.BatchNormalization( name=name+'_batch2')(resblock)\n",
        "    return tf.nn.relu(resblock+x)\n",
        "\n",
        "def fullylayer(x, units, name):\n",
        "    return tf.keras.layers.dense(x, units, activation=tf.nn.elu, name=name)\n",
        "\n",
        "def conv2ser(x):\n",
        "    return tf.keras.layers.GlobalAveragePooling1D()(x)\n",
        "\n",
        "def resblock_s(x, filters, kernel_size, name):\n",
        "    resblock=conv1d(x, filters, kernel_size, stride=2, name=name+'_conv1')\n",
        "    shorcut=tf.keras.layers.BatchNormalization( name=name+'_batch1')(resblock)\n",
        "    resblock=tf.nn.relu(shorcut, name=name+'_relu')\n",
        "    resblock=conv1d(resblock, filters, kernel_size, stride=1, name=name+'_conv2')\n",
        "    resblock=tf.keras.layers.BatchNormalization( name=name+'_batch2')(resblock)\n",
        "    return tf.nn.relu(resblock+shorcut)  "
      ]
    },
    {
      "cell_type": "code",
      "execution_count": null,
      "metadata": {
        "id": "txXEEeS67fPz"
      },
      "outputs": [],
      "source": [
        "class BaseModel:\n",
        "    def __init__(self, num_class):\n",
        "        raise NotImplementedError\n",
        "        \n",
        "    def run(self, X, is_training):\n",
        "        raise NotImplementedError\n",
        "\n",
        "class Resnet1D(BaseModel):\n",
        "    params={}\n",
        "    def __init__(self, num_class, keep_prob):\n",
        "        self.shape=[-1, 74484, 1]\n",
        "        self.keep_prob=keep_prob\n",
        "        \n",
        "    \n",
        "        "
      ]
    },
    {
      "cell_type": "code",
      "source": [
        "def get_model():\n",
        "    if CFG.model==1:\n",
        "        inp = Input(shape=(874, 1))\n",
        "        img_1 = Convolution1D(256, kernel_size=5,strides =1, activation=activations.relu, padding=\"same\",kernel_initializer=\"he_normal\")(inp)\n",
        "        img_1 = MaxPool1D(pool_size=5,strides = 2,padding=\"same\")(img_1)\n",
        "        img_1 = BatchNormalization()(img_1)\n",
        "        img_1 = Convolution1D(128, kernel_size=5,strides =1 ,activation=activations.relu, padding=\"same\",kernel_initializer=\"he_normal\")(img_1)\n",
        "        img_1 = MaxPool1D(pool_size=5,strides = 2)(img_1)\n",
        "        img_1 = BatchNormalization()(img_1)\n",
        "        img_1 = Convolution1D(128, kernel_size=5,strides =1 ,activation=activations.relu, padding=\"same\",kernel_initializer=\"he_normal\")(img_1)\n",
        "        img_1 = MaxPool1D(pool_size=5,strides = 2,padding=\"same\")(img_1)\n",
        "        img_1 = BatchNormalization()(img_1)\n",
        "        img_1 = Convolution1D(256, kernel_size=5,strides =1, activation=activations.relu, padding=\"same\",kernel_initializer=\"he_normal\")(img_1)\n",
        "        img_1 = GlobalMaxPool1D()(img_1)\n",
        "        b = BatchNormalization()(img_1)\n",
        "        dense_1 = Dense(64, activation=activations.relu)(b)\n",
        "        dense_1 = Dense(32, activation=activations.relu)(dense_1)\n",
        "        dense_1 = Dense(1, activation=activations.sigmoid)(dense_1)\n",
        "\n",
        "        model = models.Model(inputs=inp, outputs=dense_1)\n",
        "        # opt = optimizers.Adam(0.0001)\n",
        "\n",
        "        model.compile(optimizer=keras.optimizers.Adam(learning_rate=0.001), loss=losses.binary_crossentropy, metrics=['acc'])\n",
        "        return model\n",
        "    elif CFG.model==2: # ResNet\n",
        "        inp = Input(shape=(x_train.shape[1], 1))\n",
        "            \n",
        "        #conv1d\n",
        "        conv1=conv1d(inp, 64, 7, name='conv1')\n",
        "\n",
        "        #maxpool1d\n",
        "        maxpool1=maxpool1d(conv1, 4, strides=2, name='maxpool1',padding='same')\n",
        "        #resblock1,2,3\n",
        "        resblock1=resblock(maxpool1, 64, 3, name='resblock1')\n",
        "        resblock2=resblock(resblock1, 64, 3, name='resblock2')\n",
        "        resblock3=resblock(resblock2, 64, 3, name='resblock3')\n",
        "        maxpool2=maxpool1d(resblock3, 4, strides=4, name='maxpool2', padding='same')\n",
        "        \n",
        "        #resblock4,5,6,7\n",
        "        resblock4=resblock_s(maxpool2, 128, 3, name='resblock4_s2')\n",
        "        resblock5=resblock(resblock4, 128, 3, name='resblock5')\n",
        "        resblock6=resblock(resblock5, 128, 3, name='resblock6')\n",
        "        resblock7=resblock(resblock6, 128, 3, name='resblock7')\n",
        "        maxpool3=maxpool1d(resblock7, 4, strides=4, name='maxpool3', padding='same')\n",
        "        # #resblock8~13\n",
        "        resblock8=resblock_s(maxpool3, 256, 3, name='resblock8_s2')\n",
        "        resblock9=resblock(resblock8, 256, 3, name='resblock9')\n",
        "        resblock10=resblock(resblock9, 256, 3, name='resblock10')\n",
        "        resblock11=resblock(resblock10, 256, 3, name='resblock11')\n",
        "        # resblock12=resblock(resblock11, 256, 3, name='resblock12')\n",
        "        # resblock13=resblock(resblock12, 256, 3, name='resblock13')\n",
        "        maxpool4=maxpool1d(resblock11, 4, strides=4, name='maxpool4', padding='same')\n",
        "    \n",
        "        # #resblock14~16\n",
        "        resblock14=resblock_s(maxpool4, 512, 3, name='resblock14_s2')\n",
        "        resblock15=resblock(resblock14, 512, 3, name='resblock15')\n",
        "        resblock16=resblock(resblock15, 512, 3, name='resblock16')\n",
        "        maxpool5=maxpool1d(resblock16, 4, strides=4, name='maxpool5', padding='same')\n",
        "        \n",
        "        # #resblock17~19\n",
        "        # resblock17=resblock_s(maxpool5, 1024, 3, name='resblock17_s2')\n",
        "        # resblock18=resblock(resblock17, 1024, 3, name='resblock18')\n",
        "        # resblock19=resblock(resblock18, 1024, 3, name='resblock19')\n",
        "        # maxpool6=maxpool1d(resblock19, 4, strides=4, name='maxpool6', padding='VALID')\n",
        "        \n",
        "        # #resblock\n",
        "        # resblock20=resblock_s(maxpool6, 1024, 3, name='resblock20_s2')\n",
        "        # resblock21=resblock_s(resblock20, 1024, 3, name='resblock21')\n",
        "        # resblock22=resblock(resblock21, 1024, 3, name='resblock22')\n",
        "        # resblock23=resblock(resblock22, 1024, 3, name='resblock23')\n",
        "        # maxpool7=maxpool1d(resblock23, 4, strides=4, name='maxpool7', padding='VALID')\n",
        "        # maxpool8=maxpool1d(maxpool7, 3, strides=3, name='maxpool8', padding='VALID')\n",
        "            \n",
        "        avgpool_flat=conv2ser(maxpool5)\n",
        "\n",
        "        #fullyconectedlyaer\n",
        "        dense_1 = Dense(256, activation=activations.relu)(avgpool_flat)\n",
        "        dense_1 = Dense(128, activation=activations.relu)(dense_1)\n",
        "        dense_1 = Dense(1, activation=activations.sigmoid)(dense_1)\n",
        "        model = models.Model(inputs=inp, outputs=dense_1)\n",
        "        # opt = optimizers.Adam(0.0001)\n",
        "\n",
        "        model.compile(optimizer=keras.optimizers.Nadam(learning_rate=0.001), loss=losses.binary_crossentropy, metrics=['acc'])\n",
        "        return model"
      ],
      "metadata": {
        "id": "YdqKHx1RbSV8"
      },
      "execution_count": null,
      "outputs": []
    },
    {
      "cell_type": "code",
      "execution_count": null,
      "metadata": {
        "id": "ifcWBlKC7fPz"
      },
      "outputs": [],
      "source": [
        "# def get_model():##\n",
        "#     if CFG.model==1:\n",
        "#         l=0.001\n",
        "#         inp = Input(shape=(874, 1))\n",
        "#         img_1 = Convolution1D(256, kernel_size=5,strides=1, padding=\"same\",kernel_initializer=\"he_normal\")(inp)\n",
        "#         img_1 = BatchNormalization()(img_1)\n",
        "#         img_1 = Activation(\"relu\")(img_1)\n",
        "#         img_1 = MaxPool1D(pool_size=2,strides = 2,padding=\"same\")(img_1)\n",
        "#         img_1 = Convolution1D(128, kernel_size=5,strides=1, padding=\"same\",kernel_initializer=\"he_normal\",\n",
        "#                               kernel_regularizer=l1_l2(l1=l,l2=l))(img_1) \n",
        "#         img_1 = BatchNormalization()(img_1)\n",
        "#         img_1 = Activation(\"relu\")(img_1)\n",
        "#         #img_1 = Dropout(0.2)(img_1)\n",
        "#         img_1 = MaxPool1D(pool_size=2,strides = 2,padding=\"same\")(img_1)\n",
        "#         img_1 = Convolution1D(128, kernel_size=5,strides =1, padding=\"same\",kernel_initializer=\"he_normal\",\n",
        "#                               kernel_regularizer=l1_l2(l1=l,l2=l))(img_1)\n",
        "#         img_1 = BatchNormalization()(img_1)\n",
        "#         img_1 = Activation(\"relu\")(img_1)\n",
        "#         #img_1 = Dropout(0.2)(img_1)\n",
        "#         img_1 = MaxPool1D(pool_size=2,strides = 2,padding=\"same\")(img_1)\n",
        "#         #\n",
        "#         img_1 = Convolution1D(256, kernel_size=5,strides =1, padding=\"same\",kernel_initializer=\"he_normal\", \n",
        "#                               kernel_regularizer=l1_l2(l1=l,l2=l))(img_1)\n",
        "#         img_1 = BatchNormalization()(img_1)\n",
        "#         img_1 = Activation(\"relu\")(img_1)\n",
        "#         #img_1 = Dropout(0.2)(img_1)\n",
        "#         img_1 = MaxPool1D(pool_size=2,strides = 2,padding=\"same\")(img_1)\n",
        "#         # img_1 = Convolution1D(512, kernel_size=1,strides =1, padding=\"same\",kernel_initializer=\"he_normal\")(img_1)\n",
        "#         # img_1 = BatchNormalization()(img_1)\n",
        "#         # img_1 = Activation(\"relu\")(img_1)\n",
        "#         #\n",
        "#         img_1 = GlobalMaxPool1D()(img_1)\n",
        "#         img_1 = BatchNormalization()(img_1)\n",
        "#         dense_1 = Dense(128, activation=activations.relu)(img_1)\n",
        "#         dense_1 = Dense(64, activation=activations.relu)(img_1)\n",
        "#         dense_1 = Dense(32, activation=activations.relu)(dense_1)\n",
        "#         dense_1 = Dense(1, activation=activations.sigmoid)(dense_1)\n",
        "\n",
        "#         model = models.Model(inputs=inp, outputs=dense_1)\n",
        "#         # opt = optimizers.Adam(0.0001)\n",
        "\n",
        "#         model.compile(optimizer=keras.optimizers.Adam(learning_rate=0.001), loss=losses.binary_crossentropy, metrics=['acc'])\n",
        "#         return model\n",
        "#     elif CFG.model==2: # ResNet\n",
        "#         inp = Input(shape=(x_train.shape[1], 1))\n",
        "            \n",
        "#         #conv1d\n",
        "#         conv1=conv1d(inp, 64, 7, name='conv1')\n",
        "\n",
        "#         #maxpool1d\n",
        "#         maxpool1=maxpool1d(conv1, 4, strides=2, name='maxpool1',padding='same')\n",
        "#         #resblock1,2,3\n",
        "#         resblock1=resblock(maxpool1, 64, 3, name='resblock1')\n",
        "#         resblock2=resblock(resblock1, 64, 3, name='resblock2')\n",
        "#         resblock3=resblock(resblock2, 64, 3, name='resblock3')\n",
        "#         maxpool2=maxpool1d(resblock3, 4, strides=4, name='maxpool2', padding='same')\n",
        "        \n",
        "#         #resblock4,5,6,7\n",
        "#         resblock4=resblock_s(maxpool2, 128, 3, name='resblock4_s2')\n",
        "#         resblock5=resblock(resblock4, 128, 3, name='resblock5')\n",
        "#         resblock6=resblock(resblock5, 128, 3, name='resblock6')\n",
        "#         resblock7=resblock(resblock6, 128, 3, name='resblock7')\n",
        "#         maxpool3=maxpool1d(resblock7, 4, strides=4, name='maxpool3', padding='same')\n",
        "#         # #resblock8~13\n",
        "#         resblock8=resblock_s(maxpool3, 256, 3, name='resblock8_s2')\n",
        "#         resblock9=resblock(resblock8, 256, 3, name='resblock9')\n",
        "#         resblock10=resblock(resblock9, 256, 3, name='resblock10')\n",
        "#         resblock11=resblock(resblock10, 256, 3, name='resblock11')\n",
        "#         # resblock12=resblock(resblock11, 256, 3, name='resblock12')\n",
        "#         # resblock13=resblock(resblock12, 256, 3, name='resblock13')\n",
        "#         maxpool4=maxpool1d(resblock11, 4, strides=4, name='maxpool4', padding='same')\n",
        "    \n",
        "#         # #resblock14~16\n",
        "#         resblock14=resblock_s(maxpool4, 512, 3, name='resblock14_s2')\n",
        "#         resblock15=resblock(resblock14, 512, 3, name='resblock15')\n",
        "#         resblock16=resblock(resblock15, 512, 3, name='resblock16')\n",
        "#         maxpool5=maxpool1d(resblock16, 4, strides=4, name='maxpool5', padding='same')\n",
        "        \n",
        "#         # #resblock17~19\n",
        "#         # resblock17=resblock_s(maxpool5, 1024, 3, name='resblock17_s2')\n",
        "#         # resblock18=resblock(resblock17, 1024, 3, name='resblock18')\n",
        "#         # resblock19=resblock(resblock18, 1024, 3, name='resblock19')\n",
        "#         # maxpool6=maxpool1d(resblock19, 4, strides=4, name='maxpool6', padding='VALID')\n",
        "        \n",
        "#         # #resblock\n",
        "#         # resblock20=resblock_s(maxpool6, 1024, 3, name='resblock20_s2')\n",
        "#         # resblock21=resblock_s(resblock20, 1024, 3, name='resblock21')\n",
        "#         # resblock22=resblock(resblock21, 1024, 3, name='resblock22')\n",
        "#         # resblock23=resblock(resblock22, 1024, 3, name='resblock23')\n",
        "#         # maxpool7=maxpool1d(resblock23, 4, strides=4, name='maxpool7', padding='VALID')\n",
        "#         # maxpool8=maxpool1d(maxpool7, 3, strides=3, name='maxpool8', padding='VALID')\n",
        "            \n",
        "#         avgpool_flat=conv2ser(maxpool5)\n",
        "\n",
        "#         #fullyconectedlyaer\n",
        "#         dense_1 = Dense(256, activation=activations.relu)(avgpool_flat)\n",
        "#         dense_1 = Dense(128, activation=activations.relu)(dense_1)\n",
        "#         dense_1 = Dense(1, activation=activations.sigmoid)(dense_1)\n",
        "#         model = models.Model(inputs=inp, outputs=dense_1)\n",
        "#         # opt = optimizers.Adam(0.0001)\n",
        "\n",
        "#         return model"
      ]
    },
    {
      "cell_type": "code",
      "execution_count": null,
      "metadata": {
        "id": "PP4Sm2VY7fP0"
      },
      "outputs": [],
      "source": [
        "def Conv_1D_Block(x, model_width, kernel, strides):\n",
        "    # 1D Convolutional Block with BatchNormalization\n",
        "    x = tf.keras.layers.Conv1D(model_width, kernel, strides=strides, padding=\"same\", kernel_initializer=\"he_normal\")(x)\n",
        "    x = tf.keras.layers.BatchNormalization()(x)\n",
        "    x = tf.keras.layers.Activation('relu')(x)\n",
        "\n",
        "    return x\n",
        "\n",
        "\n",
        "def trans_conv1D(x, model_width, kernel, strides):\n",
        "    # 1D Transposed Convolutional Block, used instead of UpSampling\n",
        "    x = tf.keras.layers.Conv1DTranspose(model_width, kernel, strides=strides, padding='same')(x)  # Stride = 2, Kernel Size = 4\n",
        "    x = tf.keras.layers.BatchNormalization()(x)\n",
        "    x = tf.keras.layers.Activation('relu')(x)\n",
        "\n",
        "    return x\n",
        "\n",
        "def Feature_Extraction_Block(inputs, model_width, feature_number):\n",
        "    # Feature Extraction Block for the AutoEncoder Mode\n",
        "    shape = inputs.shape\n",
        "    latent = tf.keras.layers.Flatten()(inputs)\n",
        "    latent = tf.keras.layers.Dense(feature_number, name='features')(latent)\n",
        "    latent = tf.keras.layers.Dense(model_width * shape[1])(latent)\n",
        "    latent = tf.keras.layers.Reshape((shape[1], model_width))(latent)\n",
        "\n",
        "    return latent\n",
        "\n",
        "\n",
        "def Attention_Block(skip_connection, gating_signal, num_filters):\n",
        "    # Attention Block\n",
        "    conv1x1_1 = tf.keras.layers.Conv1D(num_filters, 1, strides=2)(skip_connection)\n",
        "    conv1x1_1 = tf.keras.layers.BatchNormalization()(conv1x1_1)\n",
        "    conv1x1_2 = tf.keras.layers.Conv1D(num_filters, 1, strides=1)(gating_signal)\n",
        "    conv1x1_2 = tf.keras.layers.BatchNormalization()(conv1x1_2)\n",
        "    conv1_2 = tf.keras.layers.add([conv1x1_1, conv1x1_2])\n",
        "    conv1_2 = tf.keras.layers.Activation('relu')(conv1_2)\n",
        "    conv1_2 = tf.keras.layers.Conv1D(1, 1, strides=1)(conv1_2)\n",
        "    conv1_2 = tf.keras.layers.BatchNormalization()(conv1_2)\n",
        "    conv1_2 = tf.keras.layers.Activation('sigmoid')(conv1_2)\n",
        "    resampler = trans_conv1D(conv1_2, num_filters, 4, 1)\n",
        "    out = skip_connection*resampler\n",
        "\n",
        "    return out\n",
        "\n",
        "\n",
        "def stem(inputs, num_filters):\n",
        "    # Construct the Stem Convolution Group\n",
        "    # inputs : input vector\n",
        "    # First Convolutional layer, where pooled feature maps will be reduced by 75%\n",
        "    conv = Conv_1D_Block(inputs, num_filters, 7, 2)\n",
        "    if conv.shape[1] <= 2:\n",
        "        pool = tf.keras.layers.MaxPooling1D(pool_size=1, strides=2, padding=\"valid\")(conv)\n",
        "    else:\n",
        "        pool = tf.keras.layers.MaxPooling1D(pool_size=2, strides=2, padding=\"valid\")(conv)\n",
        "\n",
        "    return pool\n",
        "\n",
        "\n",
        "def conv_block(inputs, num_filters):\n",
        "    # Construct Block of Convolutions without Pooling\n",
        "    # x        : input into the block\n",
        "    # n_filters: number of filters\n",
        "    conv = Conv_1D_Block(inputs, num_filters, 3, 2)\n",
        "    conv = Conv_1D_Block(conv, num_filters, 3, 1)\n",
        "    conv = Conv_1D_Block(conv, num_filters, 3, 1)\n",
        "\n",
        "    return conv\n",
        "\n",
        "\n",
        "def residual_block(inputs, num_filters):\n",
        "    # Construct a Residual Block of Convolutions\n",
        "    # x        : input into the block\n",
        "    # n_filters: number of filters\n",
        "    shortcut = inputs\n",
        "    #\n",
        "    conv = Conv_1D_Block(inputs, num_filters, 3, 1)\n",
        "    conv = Conv_1D_Block(conv, num_filters, 3, 1)\n",
        "    conv = tf.keras.layers.Add()([conv, shortcut])\n",
        "    out = tf.keras.layers.Activation('relu')(conv)\n",
        "\n",
        "    return out\n",
        "\n",
        "\n",
        "def residual_group(inputs, num_filters, n_blocks, conv=True):\n",
        "    # x        : input to the group\n",
        "    # n_filters: number of filters\n",
        "    # n_blocks : number of blocks in the group\n",
        "    # conv     : flag to include the convolution block connector\n",
        "    out = inputs\n",
        "    for _ in range(n_blocks):\n",
        "        out = residual_block(out, num_filters)\n",
        "\n",
        "    # Double the size of filters and reduce feature maps by 75% (strides=2, 2) to fit the next Residual Group\n",
        "    if conv:\n",
        "        out = conv_block(out, num_filters * 2)\n",
        "\n",
        "    return out\n",
        "\n",
        "\n",
        "def stem_bottleneck(inputs, num_filters):\n",
        "    # Construct the Stem Convolution Group\n",
        "    # inputs : input vector\n",
        "    # First Convolutional layer, where pooled feature maps will be reduced by 75%\n",
        "    conv = Conv_1D_Block(inputs, num_filters, 7, 2)\n",
        "    if conv.shape[1] <= 2:\n",
        "        pool = tf.keras.layers.MaxPooling1D(pool_size=1, strides=2, padding=\"valid\")(conv)\n",
        "    else:\n",
        "        pool = tf.keras.layers.MaxPooling1D(pool_size=2, strides=2, padding=\"valid\")(conv)\n",
        "\n",
        "    return pool\n",
        "\n",
        "\n",
        "def residual_block_bottleneck(inputs, num_filters):\n",
        "    # Construct a Residual Block of Convolutions\n",
        "    # x        : input into the block\n",
        "    # n_filters: number of filters\n",
        "    shortcut = Conv_1D_Block(inputs, num_filters * 4, 1, 1)\n",
        "    #\n",
        "    conv = Conv_1D_Block(inputs, num_filters, 1, 1)\n",
        "    conv = Conv_1D_Block(conv, num_filters, 3, 1)\n",
        "    conv = Conv_1D_Block(conv, num_filters * 4, 1, 1)\n",
        "    conv = tf.keras.layers.Add()([conv, shortcut])\n",
        "    out = tf.keras.layers.Activation('relu')(conv)\n",
        "\n",
        "    return out\n",
        "\n",
        "\n",
        "def residual_group_bottleneck(inputs, num_filters, n_blocks, conv=True):\n",
        "    # x        : input to the group\n",
        "    # n_filters: number of filters\n",
        "    # n_blocks : number of blocks in the group\n",
        "    # conv     : flag to include the convolution block connector\n",
        "    out = inputs\n",
        "    for i in range(n_blocks):\n",
        "        out = residual_block_bottleneck(out, num_filters)\n",
        "\n",
        "    # Double the size of filters and reduce feature maps by 75% (strides=2) to fit the next Residual Group\n",
        "    if conv:\n",
        "        out = conv_block(out, num_filters * 2)\n",
        "\n",
        "    return out\n",
        "\n",
        "\n",
        "def encoder18(inputs, num_filters):\n",
        "    # Construct the Learner\n",
        "    x1 = residual_group(inputs, num_filters, 2)          # First Residual Block Group of 64 filters\n",
        "    x2 = residual_group(x1, num_filters * 2, 1)           # Second Residual Block Group of 128 filters\n",
        "    x3 = residual_group(x2, num_filters * 4, 1)           # Third Residual Block Group of 256 filters\n",
        "    x4 = residual_group(x3, num_filters * 8, 1, False)  # Fourth Residual Block Group of 512 filters\n",
        "\n",
        "    return x1, x2, x3, x4\n",
        "\n",
        "\n",
        "def encoder34(inputs, num_filters):\n",
        "    # Construct the Learner\n",
        "    x1 = residual_group(inputs, num_filters, 3)          # First Residual Block Group of 64 filters\n",
        "    x2 = residual_group(x1, num_filters * 2, 3)           # Second Residual Block Group of 128 filters\n",
        "    x3 = residual_group(x2, num_filters * 4, 5)           # Third Residual Block Group of 256 filters\n",
        "    x4 = residual_group(x3, num_filters * 8, 2, False)  # Fourth Residual Block Group of 512 filters\n",
        "\n",
        "    return x1, x2, x3, x4\n",
        "\n",
        "\n",
        "def encoder50(inputs, num_filters):\n",
        "    # Construct the Learner\n",
        "    x1 = residual_group_bottleneck(inputs, num_filters, 3)  # First Residual Block Group of 64 filters\n",
        "    x2 = residual_group_bottleneck(x1, num_filters * 2, 3)   # Second Residual Block Group of 128 filters\n",
        "    x3 = residual_group_bottleneck(x2, num_filters * 4, 5)   # Third Residual Block Group of 256 filters\n",
        "    x4 = residual_group_bottleneck(x3, num_filters * 8, 2, False)  # Fourth Residual Block Group of 512 filters\n",
        "\n",
        "    return x1, x2, x3, x4\n",
        "\n",
        "\n",
        "def encoder101(inputs, num_filters):\n",
        "    # Construct the Learner\n",
        "    x1 = residual_group_bottleneck(inputs, num_filters, 3)  # First Residual Block Group of 64 filters\n",
        "    x2 = residual_group_bottleneck(x1, num_filters * 2, 3)   # Second Residual Block Group of 128 filters\n",
        "    x3 = residual_group_bottleneck(x2, num_filters * 4, 22)  # Third Residual Block Group of 256 filters\n",
        "    x4 = residual_group_bottleneck(x3, num_filters * 8, 2, False)  # Fourth Residual Block Group of 512 filters\n",
        "\n",
        "    return x1, x2, x3, x4\n",
        "\n",
        "\n",
        "def encoder152(inputs, num_filters):\n",
        "    # Construct the Learner\n",
        "    x1 = residual_group_bottleneck(inputs, num_filters, 3)  # First Residual Block Group of 64 filters\n",
        "    x2 = residual_group_bottleneck(x1, num_filters * 2, 7)   # Second Residual Block Group of 128 filters\n",
        "    x3 = residual_group_bottleneck(x2, num_filters * 4, 35)  # Third Residual Block Group of 256 filters\n",
        "    x4 = residual_group_bottleneck(x3, num_filters * 8, 2, False)  # Fourth Residual Block Group of 512 filters\n",
        "\n",
        "    return x1, x2, x3, x4\n",
        "\n",
        "\n",
        "def decoder_unit(inputs, num_filters):\n",
        "    # Decoder Unit\n",
        "    conv = Conv_1D_Block(inputs, num_filters, 1, 1)\n",
        "    deconv = trans_conv1D(conv, num_filters, 4, 2)\n",
        "    conv = Conv_1D_Block(deconv, num_filters, 1, 1)\n",
        "\n",
        "    return conv\n",
        "\n",
        "\n",
        "def decoder_block(x1, x2, x3, x4, num_filters, D_S, A_G):\n",
        "    # Decoder Block\n",
        "    levels = []\n",
        "    if D_S == 1:\n",
        "        level = tf.keras.layers.Conv1D(1, 1, name=f'level4')(x4)\n",
        "        levels.append(level)\n",
        "    decode1 = decoder_unit(x4, num_filters * 8)\n",
        "    shape3 = x3.shape\n",
        "    x3 = Conv_1D_Block(x3, num_filters * 8, 1, shape3[1] + 1)\n",
        "    if A_G == 1:\n",
        "        x3 = Attention_Block(x3, decode1, num_filters * 8)\n",
        "    decode1 = tf.keras.layers.concatenate([decode1, x3], axis=-1)\n",
        "    if D_S == 1:\n",
        "        level = tf.keras.layers.Conv1D(1, 1, name=f'level3')(decode1)\n",
        "        levels.append(level)\n",
        "    decode2 = decoder_unit(decode1, num_filters * 4)\n",
        "    shape2 = x2.shape\n",
        "    x2 = Conv_1D_Block(x2, num_filters * 4, 1, shape2[1] + 1)\n",
        "    if A_G == 1:\n",
        "        x2 = Attention_Block(x2, decode2, num_filters * 4)\n",
        "    decode2 = tf.keras.layers.concatenate([decode2, x2], axis=-1)\n",
        "    if D_S == 1:\n",
        "        level = tf.keras.layers.Conv1D(1, 1, name=f'level2')(decode2)\n",
        "        levels.append(level)\n",
        "    decode3 = decoder_unit(decode2, num_filters * 2)\n",
        "    shape1 = x1.shape\n",
        "    x1 = Conv_1D_Block(x1, num_filters * 2, 1, shape1[1]+1)\n",
        "    if A_G == 1:\n",
        "        x1 = Attention_Block(x1, decode3, num_filters * 2)\n",
        "    decode3 = tf.keras.layers.concatenate([decode3, x1], axis=-1)\n",
        "    if D_S == 1:\n",
        "        level = tf.keras.layers.Conv1D(1, 1, name=f'level1')(decode3)\n",
        "        levels.append(level)\n",
        "    decode4 = decoder_unit(decode3, num_filters)\n",
        "    deconv5 = trans_conv1D(decode4, num_filters, 3, 2)\n",
        "    deconv6 = Conv_1D_Block(deconv5, num_filters, 3, 1)\n",
        "    out = Conv_1D_Block(deconv6, num_filters, 2, 1)\n",
        "    if D_S == 1:\n",
        "        level = tf.keras.layers.Conv1D(1, 1, name=f'level0')(decode4)\n",
        "        levels.append(level)\n",
        "\n",
        "    return out, levels\n",
        "\n",
        "\n",
        "class AlbUNet:\n",
        "    def __init__(self, length, num_channel, num_filters, ds=0, ae=0, ag=0, problem_type='Regression',\n",
        "                 output_nums=1, pooling='avg', feature_number=1024, dropout_rate=False):\n",
        "        # length: Input Signal Length\n",
        "        # model_depth: Depth of the Model\n",
        "        # model_width: Width of the Input Layer of the Model\n",
        "        # num_channel: Number of Channels allowed by the Model\n",
        "        # problem_type: Classification (Binary or Multiclass) or Regression\n",
        "        # output_nums: Output Classes (Classification Mode) or Features (Regression Mode)\n",
        "        # ds: Checks where Deep Supervision is active or not, either 0 or 1 [Default value set as 0]\n",
        "        # ae: Enables or diables the AutoEncoder Mode, either 0 or 1 [Default value set as 0]\n",
        "        # ag: Checks where Attention Guided is active or not, either 0 or 1 [Default value set as 0]\n",
        "        # alpha: This Parameter is only for MultiResUNet, default value is 1\n",
        "        # feature_number: Number of Features or Embeddings to be extracted from the AutoEncoder in the A_E Mode\n",
        "        self.length = length\n",
        "        self.num_channel = num_channel\n",
        "        self.num_filters = num_filters\n",
        "        self.problem_type = problem_type\n",
        "        self.output_nums = output_nums\n",
        "        self.D_S = ds\n",
        "        self.A_E = ae\n",
        "        self.A_G = ag\n",
        "        self.pooling = pooling\n",
        "        self.feature_number = feature_number\n",
        "        self.dropout_rate = dropout_rate\n",
        "\n",
        "    def MLP(self, x):\n",
        "        if self.dropout_rate:\n",
        "            x = tf.keras.layers.Dropout(self.dropout_rate, name='Dropout')(x)\n",
        "        outputs = tf.keras.layers.Dense(self.output_nums, activation='linear')(x)\n",
        "        if self.problem_type == 'Classification':\n",
        "            outputs = tf.keras.layers.Dense(self.output_nums, activation='sigmoid')(x)\n",
        "\n",
        "        return outputs\n",
        "\n",
        "    def AlbUNet18(self):\n",
        "        inputs = tf.keras.Input((self.length, self.num_channel))  # Input\n",
        "\n",
        "        # Encoder\n",
        "        stem_ = stem(inputs, self.num_filters)\n",
        "        x1, x2, x3, x4 = encoder18(stem_, self.num_filters)\n",
        "\n",
        "        # Feature Extraction\n",
        "        if self.A_E == 1:\n",
        "            x4 = Feature_Extraction_Block(x4, self.num_filters, self.feature_number)\n",
        "\n",
        "        # Decoder\n",
        "        decoder_output, levels = decoder_block(x1, x2, x3, x4, self.num_filters, self.D_S, self.A_G)\n",
        "        outputs = self.MLP(decoder_output)\n",
        "        decoder_output =GlobalAveragePooling1D()(decoder_output)\n",
        "        b = BatchNormalization()(decoder_output)\n",
        "        dense_1 = Dense(64, activation=activations.relu)(b)\n",
        "        dense_1 = Dense(32, activation=activations.relu)(dense_1)\n",
        "        dense_1 = Dense(1, activation=activations.sigmoid)(dense_1)\n",
        "        # Instantiate the Model\n",
        "        model = tf.keras.Model(inputs=[inputs], outputs=[dense_1])\n",
        "\n",
        "        if self.D_S == 1:\n",
        "            levels.append(outputs)\n",
        "            levels.reverse()\n",
        "            levels=GlobalAveragePooling1D()(levels)\n",
        "            model = tf.keras.Model(inputs=[inputs], outputs=levels)\n",
        "\n",
        "        return model\n",
        "\n",
        "    def AlbUNet34(self):\n",
        "        inputs = tf.keras.Input((self.length, self.num_channel))  # Input\n",
        "\n",
        "        # Encoder\n",
        "        stem_ = stem(inputs, self.num_filters)\n",
        "        x1, x2, x3, x4 = encoder34(stem_, self.num_filters)\n",
        "\n",
        "        # Feature Extraction\n",
        "        if self.A_E == 1:\n",
        "            x4 = Feature_Extraction_Block(x4, self.num_filters, self.feature_number)\n",
        "\n",
        "        # Decoder\n",
        "        decoder_output, levels = decoder_block(x1, x2, x3, x4, self.num_filters, self.D_S, self.A_G)\n",
        "        outputs = self.MLP(decoder_output)\n",
        "\n",
        "        # Instantiate the Model\n",
        "        model = tf.keras.Model(inputs=[inputs], outputs=[outputs])\n",
        "\n",
        "        if self.D_S == 1:\n",
        "            levels.append(outputs)\n",
        "            levels.reverse()\n",
        "            model = tf.keras.Model(inputs=[inputs], outputs=levels)\n",
        "\n",
        "        return model\n",
        "\n",
        "    def AlbUNet50(self):\n",
        "        inputs = tf.keras.Input((self.length, self.num_channel))  # Input\n",
        "\n",
        "        # Encoder\n",
        "        stem_ = stem(inputs, self.num_filters)\n",
        "        x1, x2, x3, x4 = encoder50(stem_, self.num_filters)\n",
        "\n",
        "        # Feature Extraction\n",
        "        if self.A_E == 1:\n",
        "            x4 = Feature_Extraction_Block(x4, self.num_filters, self.feature_number)\n",
        "\n",
        "        # Decoder\n",
        "        decoder_output, levels = decoder_block(x1, x2, x3, x4, self.num_filters, self.D_S, self.A_G)\n",
        "        outputs = self.MLP(decoder_output)\n",
        "\n",
        "        # Instantiate the Model\n",
        "        model = tf.keras.Model(inputs=[inputs], outputs=[outputs])\n",
        "\n",
        "        if self.D_S == 1:\n",
        "            levels.append(outputs)\n",
        "            levels.reverse()\n",
        "            model = tf.keras.Model(inputs=[inputs], outputs=levels)\n",
        "\n",
        "        return model\n",
        "\n",
        "    def AlbUNet101(self):\n",
        "        inputs = tf.keras.Input((self.length, self.num_channel))  # Input\n",
        "\n",
        "        # Encoder\n",
        "        stem_ = stem(inputs, self.num_filters)\n",
        "        x1, x2, x3, x4 = encoder101(stem_, self.num_filters)\n",
        "\n",
        "        # Feature Extraction\n",
        "        if self.A_E == 1:\n",
        "            x4 = Feature_Extraction_Block(x4, self.num_filters, self.feature_number)\n",
        "\n",
        "        # Decoder\n",
        "        decoder_output, levels = decoder_block(x1, x2, x3, x4, self.num_filters, self.D_S, self.A_G)\n",
        "        outputs = self.MLP(decoder_output)\n",
        "\n",
        "        # Instantiate the Model\n",
        "        model = tf.keras.Model(inputs=[inputs], outputs=[outputs])\n",
        "\n",
        "        if self.D_S == 1:\n",
        "            levels.append(outputs)\n",
        "            levels.reverse()\n",
        "            model = tf.keras.Model(inputs=[inputs], outputs=levels)\n",
        "\n",
        "        return model\n",
        "\n",
        "    def AlbUNet152(self):\n",
        "        inputs = tf.keras.Input((self.length, self.num_channel))  # Input\n",
        "\n",
        "        # Encoder\n",
        "        stem_ = stem(inputs, self.num_filters)\n",
        "        x1, x2, x3, x4 = encoder152(stem_, self.num_filters)\n",
        "\n",
        "        # Feature Extraction\n",
        "        if self.A_E == 1:\n",
        "            x4 = Feature_Extraction_Block(x4, self.num_filters, self.feature_number)\n",
        "\n",
        "        # Decoder\n",
        "        decoder_output, levels = decoder_block(x1, x2, x3, x4, self.num_filters, self.D_S, self.A_G)\n",
        "        decoder_output =GlobalAveragePooling1D()(decoder_output)\n",
        "        levels=GlobalAveragePooling1D()(levels)\n",
        "        outputs = self.MLP(decoder_output)\n",
        "\n",
        "        # Instantiate the Model\n",
        "        model = tf.keras.Model(inputs=[inputs], outputs=[outputs])\n",
        "\n",
        "        if self.D_S == 1:\n",
        "            levels.append(outputs)\n",
        "            levels.reverse()\n",
        "            model = tf.keras.Model(inputs=[inputs], outputs=levels)\n",
        "\n",
        "        return model\n"
      ]
    },
    {
      "cell_type": "code",
      "execution_count": null,
      "metadata": {
        "id": "QSvIBB5M7fP2"
      },
      "outputs": [],
      "source": [
        " # Configurations\n",
        "if CFG.model ==3:\n",
        "    num_channel = 1\n",
        "    length = 874\n",
        "    model_width = 64\n",
        "    D_S = 0\n",
        "    A_E = 0\n",
        "    A_G = 1\n",
        "    feature_number = 874\n",
        "    model_name = 'AlbUNet18'\n",
        "    # Build model for AlbUNet\n",
        "    model = AlbUNet(length, num_channel, model_width, ds=D_S, ae=A_E, ag=A_G, problem_type='Classification', output_nums=1, pooling='avg', dropout_rate=False).AlbUNet18()\n",
        "    model.compile(optimizer=keras.optimizers.Nadam(learning_rate=0.001), loss=losses.binary_crossentropy, metrics=['acc'])\n",
        "    model.summary()"
      ]
    },
    {
      "cell_type": "code",
      "execution_count": null,
      "metadata": {
        "id": "daA2zGJ87fP2",
        "colab": {
          "base_uri": "https://localhost:8080/"
        },
        "outputId": "6e45ee99-55e8-44c7-ba84-4cb549a74090"
      },
      "outputs": [
        {
          "output_type": "stream",
          "name": "stdout",
          "text": [
            "Model: \"model\"\n",
            "_________________________________________________________________\n",
            " Layer (type)                Output Shape              Param #   \n",
            "=================================================================\n",
            " input_1 (InputLayer)        [(None, 874, 1)]          0         \n",
            "                                                                 \n",
            " conv1d (Conv1D)             (None, 874, 256)          1536      \n",
            "                                                                 \n",
            " max_pooling1d (MaxPooling1D  (None, 437, 256)         0         \n",
            " )                                                               \n",
            "                                                                 \n",
            " batch_normalization (BatchN  (None, 437, 256)         1024      \n",
            " ormalization)                                                   \n",
            "                                                                 \n",
            " conv1d_1 (Conv1D)           (None, 437, 128)          163968    \n",
            "                                                                 \n",
            " max_pooling1d_1 (MaxPooling  (None, 217, 128)         0         \n",
            " 1D)                                                             \n",
            "                                                                 \n",
            " batch_normalization_1 (Batc  (None, 217, 128)         512       \n",
            " hNormalization)                                                 \n",
            "                                                                 \n",
            " conv1d_2 (Conv1D)           (None, 217, 128)          82048     \n",
            "                                                                 \n",
            " max_pooling1d_2 (MaxPooling  (None, 109, 128)         0         \n",
            " 1D)                                                             \n",
            "                                                                 \n",
            " batch_normalization_2 (Batc  (None, 109, 128)         512       \n",
            " hNormalization)                                                 \n",
            "                                                                 \n",
            " conv1d_3 (Conv1D)           (None, 109, 256)          164096    \n",
            "                                                                 \n",
            " global_max_pooling1d (Globa  (None, 256)              0         \n",
            " lMaxPooling1D)                                                  \n",
            "                                                                 \n",
            " batch_normalization_3 (Batc  (None, 256)              1024      \n",
            " hNormalization)                                                 \n",
            "                                                                 \n",
            " dense (Dense)               (None, 64)                16448     \n",
            "                                                                 \n",
            " dense_1 (Dense)             (None, 32)                2080      \n",
            "                                                                 \n",
            " dense_2 (Dense)             (None, 1)                 33        \n",
            "                                                                 \n",
            "=================================================================\n",
            "Total params: 433,281\n",
            "Trainable params: 431,745\n",
            "Non-trainable params: 1,536\n",
            "_________________________________________________________________\n"
          ]
        }
      ],
      "source": [
        "if CFG.model ==1 or CFG.model ==2:\n",
        "    model = get_model()\n",
        "    model.summary()"
      ]
    },
    {
      "cell_type": "code",
      "source": [
        "# model.compile(optimizer=keras.optimizers.Nadam(learning_rate=0.0001), loss=losses.binary_crossentropy, metrics=['acc'])"
      ],
      "metadata": {
        "id": "iHKPRUsm3Z6p"
      },
      "execution_count": null,
      "outputs": []
    },
    {
      "cell_type": "code",
      "execution_count": null,
      "metadata": {
        "id": "Si0mZ_QW7fP2",
        "colab": {
          "base_uri": "https://localhost:8080/"
        },
        "outputId": "dcbd98df-2c1d-4517-eee2-a2dc833ea21d"
      },
      "outputs": [
        {
          "output_type": "stream",
          "name": "stdout",
          "text": [
            "weights loaded\n"
          ]
        }
      ],
      "source": [
        "if CFG.load_weights and CFG.model==1:\n",
        "    \n",
        "    try:\n",
        "       model.load_weights(\"/content/gdrive/MyDrive/CS/third year/semester e/Voice Processing/Code/regular_model87.h5\")\n",
        "       #model.load_weights(\"/content/gdrive/MyDrive/CS/third year/vp/epochs/weights.03.h5\")\n",
        "       print(\"weights loaded\")\n",
        "    except ValueError:\n",
        "    # code to handle the exception\n",
        "      print(\"weights do not fit current model architecture\")\n"
      ]
    },
    {
      "cell_type": "code",
      "source": [
        "# batch_size and epochs\n",
        "batch_size = 64\n",
        "epochs = 40\n",
        "patience = 20\n",
        "patience_for_plato = 20\n"
      ],
      "metadata": {
        "id": "ly_wqI7CDA-G"
      },
      "execution_count": null,
      "outputs": []
    },
    {
      "cell_type": "code",
      "source": [
        "from keras.callbacks import ModelCheckpoint\n",
        "\n",
        "checkpoint_filepath = '/content/gdrive/MyDrive/CS/third year/vp/epochs/weights.{epoch:02d}.h5'\n",
        "\n",
        "# Define the ModelCheckpoint callback to save the model weights after each epoch\n",
        "checkpoint_callback = ModelCheckpoint(\n",
        "    filepath=checkpoint_filepath,\n",
        "    save_weights_only=True,\n",
        "    save_best_only=False,\n",
        "    monitor='val_acc',\n",
        "    #mode='max', #for save_best_only=True\n",
        "    verbose=1\n",
        ")"
      ],
      "metadata": {
        "id": "rqMXlC7INlIb"
      },
      "execution_count": null,
      "outputs": []
    },
    {
      "cell_type": "code",
      "execution_count": null,
      "metadata": {
        "id": "M9OgRy617fP3",
        "outputId": "ec23b1cb-025b-4170-ce36-61e45f539a9b",
        "colab": {
          "base_uri": "https://localhost:8080/"
        }
      },
      "outputs": [
        {
          "output_type": "stream",
          "name": "stdout",
          "text": [
            "Epoch 1/40\n",
            "1266/1266 [==============================] - ETA: 0s - loss: 0.5104 - acc: 0.7984\n",
            "Epoch 1: saving model to /content/gdrive/MyDrive/CS/third year/vp/epochs/weights.01.h5\n",
            "1266/1266 [==============================] - 44s 22ms/step - loss: 0.5104 - acc: 0.7984 - val_loss: 0.4295 - val_acc: 0.8129 - lr: 0.0010\n",
            "Epoch 2/40\n",
            "1264/1266 [============================>.] - ETA: 0s - loss: 0.4004 - acc: 0.8199\n",
            "Epoch 2: saving model to /content/gdrive/MyDrive/CS/third year/vp/epochs/weights.02.h5\n",
            "1266/1266 [==============================] - 27s 21ms/step - loss: 0.4003 - acc: 0.8199 - val_loss: 0.4801 - val_acc: 0.7811 - lr: 0.0010\n",
            "Epoch 3/40\n",
            "1263/1266 [============================>.] - ETA: 0s - loss: 0.3785 - acc: 0.8302\n",
            "Epoch 3: saving model to /content/gdrive/MyDrive/CS/third year/vp/epochs/weights.03.h5\n",
            "1266/1266 [==============================] - 26s 21ms/step - loss: 0.3786 - acc: 0.8301 - val_loss: 0.7101 - val_acc: 0.6618 - lr: 0.0010\n",
            "Epoch 4/40\n",
            "1265/1266 [============================>.] - ETA: 0s - loss: 0.3597 - acc: 0.8416\n",
            "Epoch 4: saving model to /content/gdrive/MyDrive/CS/third year/vp/epochs/weights.04.h5\n",
            "1266/1266 [==============================] - 26s 21ms/step - loss: 0.3597 - acc: 0.8416 - val_loss: 0.4427 - val_acc: 0.8100 - lr: 0.0010\n",
            "Epoch 5/40\n",
            "1263/1266 [============================>.] - ETA: 0s - loss: 0.3424 - acc: 0.8502\n",
            "Epoch 5: saving model to /content/gdrive/MyDrive/CS/third year/vp/epochs/weights.05.h5\n",
            "1266/1266 [==============================] - 28s 22ms/step - loss: 0.3427 - acc: 0.8501 - val_loss: 0.4811 - val_acc: 0.7709 - lr: 0.0010\n",
            "Epoch 6/40\n",
            "1265/1266 [============================>.] - ETA: 0s - loss: 0.3257 - acc: 0.8563\n",
            "Epoch 6: saving model to /content/gdrive/MyDrive/CS/third year/vp/epochs/weights.06.h5\n",
            "1266/1266 [==============================] - 27s 21ms/step - loss: 0.3256 - acc: 0.8564 - val_loss: 0.4896 - val_acc: 0.7771 - lr: 0.0010\n",
            "Epoch 7/40\n",
            "1265/1266 [============================>.] - ETA: 0s - loss: 0.3024 - acc: 0.8673\n",
            "Epoch 7: saving model to /content/gdrive/MyDrive/CS/third year/vp/epochs/weights.07.h5\n",
            "1266/1266 [==============================] - 25s 20ms/step - loss: 0.3024 - acc: 0.8673 - val_loss: 1.5551 - val_acc: 0.5273 - lr: 0.0010\n",
            "Epoch 8/40\n",
            "1264/1266 [============================>.] - ETA: 0s - loss: 0.2891 - acc: 0.8738\n",
            "Epoch 8: saving model to /content/gdrive/MyDrive/CS/third year/vp/epochs/weights.08.h5\n",
            "1266/1266 [==============================] - 25s 20ms/step - loss: 0.2891 - acc: 0.8738 - val_loss: 0.7017 - val_acc: 0.7602 - lr: 0.0010\n",
            "Epoch 9/40\n",
            "1266/1266 [==============================] - ETA: 0s - loss: 0.2722 - acc: 0.8835\n",
            "Epoch 9: saving model to /content/gdrive/MyDrive/CS/third year/vp/epochs/weights.09.h5\n",
            "1266/1266 [==============================] - 26s 20ms/step - loss: 0.2722 - acc: 0.8835 - val_loss: 1.1716 - val_acc: 0.6240 - lr: 0.0010\n",
            "Epoch 10/40\n",
            "1264/1266 [============================>.] - ETA: 0s - loss: 0.2538 - acc: 0.8919\n",
            "Epoch 10: saving model to /content/gdrive/MyDrive/CS/third year/vp/epochs/weights.10.h5\n",
            "1266/1266 [==============================] - 25s 20ms/step - loss: 0.2537 - acc: 0.8919 - val_loss: 0.4145 - val_acc: 0.8218 - lr: 0.0010\n",
            "Epoch 11/40\n",
            "1264/1266 [============================>.] - ETA: 0s - loss: 0.2394 - acc: 0.8987\n",
            "Epoch 11: saving model to /content/gdrive/MyDrive/CS/third year/vp/epochs/weights.11.h5\n",
            "1266/1266 [==============================] - 25s 20ms/step - loss: 0.2395 - acc: 0.8985 - val_loss: 0.6434 - val_acc: 0.7827 - lr: 0.0010\n",
            "Epoch 12/40\n",
            "1263/1266 [============================>.] - ETA: 0s - loss: 0.2256 - acc: 0.9060\n",
            "Epoch 12: saving model to /content/gdrive/MyDrive/CS/third year/vp/epochs/weights.12.h5\n",
            "1266/1266 [==============================] - 26s 20ms/step - loss: 0.2254 - acc: 0.9060 - val_loss: 0.4591 - val_acc: 0.8051 - lr: 0.0010\n",
            "Epoch 13/40\n",
            "1264/1266 [============================>.] - ETA: 0s - loss: 0.2163 - acc: 0.9091\n",
            "Epoch 13: saving model to /content/gdrive/MyDrive/CS/third year/vp/epochs/weights.13.h5\n",
            "1266/1266 [==============================] - 26s 20ms/step - loss: 0.2163 - acc: 0.9091 - val_loss: 0.5088 - val_acc: 0.7816 - lr: 0.0010\n",
            "Epoch 14/40\n",
            "1266/1266 [==============================] - ETA: 0s - loss: 0.2021 - acc: 0.9171\n",
            "Epoch 14: saving model to /content/gdrive/MyDrive/CS/third year/vp/epochs/weights.14.h5\n",
            "1266/1266 [==============================] - 26s 20ms/step - loss: 0.2021 - acc: 0.9171 - val_loss: 0.5473 - val_acc: 0.7922 - lr: 0.0010\n",
            "Epoch 15/40\n",
            "1265/1266 [============================>.] - ETA: 0s - loss: 0.1888 - acc: 0.9208\n",
            "Epoch 15: saving model to /content/gdrive/MyDrive/CS/third year/vp/epochs/weights.15.h5\n",
            "1266/1266 [==============================] - 26s 20ms/step - loss: 0.1889 - acc: 0.9208 - val_loss: 0.4419 - val_acc: 0.8304 - lr: 0.0010\n",
            "Epoch 16/40\n",
            "1266/1266 [==============================] - ETA: 0s - loss: 0.1757 - acc: 0.9274\n",
            "Epoch 16: saving model to /content/gdrive/MyDrive/CS/third year/vp/epochs/weights.16.h5\n",
            "1266/1266 [==============================] - 26s 20ms/step - loss: 0.1757 - acc: 0.9274 - val_loss: 0.5205 - val_acc: 0.8020 - lr: 0.0010\n",
            "Epoch 17/40\n",
            "1264/1266 [============================>.] - ETA: 0s - loss: 0.1663 - acc: 0.9316\n",
            "Epoch 17: saving model to /content/gdrive/MyDrive/CS/third year/vp/epochs/weights.17.h5\n",
            "1266/1266 [==============================] - 25s 20ms/step - loss: 0.1663 - acc: 0.9316 - val_loss: 0.5226 - val_acc: 0.8244 - lr: 0.0010\n",
            "Epoch 18/40\n",
            "1265/1266 [============================>.] - ETA: 0s - loss: 0.1563 - acc: 0.9357\n",
            "Epoch 18: saving model to /content/gdrive/MyDrive/CS/third year/vp/epochs/weights.18.h5\n",
            "1266/1266 [==============================] - 26s 20ms/step - loss: 0.1562 - acc: 0.9358 - val_loss: 0.6210 - val_acc: 0.7891 - lr: 0.0010\n",
            "Epoch 19/40\n",
            "1264/1266 [============================>.] - ETA: 0s - loss: 0.1491 - acc: 0.9396\n",
            "Epoch 19: saving model to /content/gdrive/MyDrive/CS/third year/vp/epochs/weights.19.h5\n",
            "1266/1266 [==============================] - 25s 20ms/step - loss: 0.1491 - acc: 0.9395 - val_loss: 0.6880 - val_acc: 0.7784 - lr: 0.0010\n",
            "Epoch 20/40\n",
            "1263/1266 [============================>.] - ETA: 0s - loss: 0.1430 - acc: 0.9421\n",
            "Epoch 20: saving model to /content/gdrive/MyDrive/CS/third year/vp/epochs/weights.20.h5\n",
            "1266/1266 [==============================] - 25s 20ms/step - loss: 0.1431 - acc: 0.9420 - val_loss: 0.5636 - val_acc: 0.8298 - lr: 0.0010\n",
            "Epoch 21/40\n",
            "1264/1266 [============================>.] - ETA: 0s - loss: 0.1330 - acc: 0.9469\n",
            "Epoch 21: saving model to /content/gdrive/MyDrive/CS/third year/vp/epochs/weights.21.h5\n",
            "1266/1266 [==============================] - 26s 21ms/step - loss: 0.1329 - acc: 0.9469 - val_loss: 0.6310 - val_acc: 0.8098 - lr: 0.0010\n",
            "Epoch 22/40\n",
            "1265/1266 [============================>.] - ETA: 0s - loss: 0.1273 - acc: 0.9487\n",
            "Epoch 22: saving model to /content/gdrive/MyDrive/CS/third year/vp/epochs/weights.22.h5\n",
            "1266/1266 [==============================] - 26s 20ms/step - loss: 0.1274 - acc: 0.9487 - val_loss: 0.7691 - val_acc: 0.7991 - lr: 0.0010\n",
            "Epoch 23/40\n",
            "1263/1266 [============================>.] - ETA: 0s - loss: 0.1260 - acc: 0.9490\n",
            "Epoch 23: saving model to /content/gdrive/MyDrive/CS/third year/vp/epochs/weights.23.h5\n",
            "1266/1266 [==============================] - 25s 20ms/step - loss: 0.1261 - acc: 0.9489 - val_loss: 1.0686 - val_acc: 0.7698 - lr: 0.0010\n",
            "Epoch 24/40\n",
            "1264/1266 [============================>.] - ETA: 0s - loss: 0.1198 - acc: 0.9534\n",
            "Epoch 24: saving model to /content/gdrive/MyDrive/CS/third year/vp/epochs/weights.24.h5\n",
            "1266/1266 [==============================] - 25s 20ms/step - loss: 0.1198 - acc: 0.9534 - val_loss: 1.2150 - val_acc: 0.6524 - lr: 0.0010\n",
            "Epoch 25/40\n",
            "1264/1266 [============================>.] - ETA: 0s - loss: 0.1146 - acc: 0.9537\n",
            "Epoch 25: saving model to /content/gdrive/MyDrive/CS/third year/vp/epochs/weights.25.h5\n",
            "1266/1266 [==============================] - 26s 20ms/step - loss: 0.1145 - acc: 0.9538 - val_loss: 0.6348 - val_acc: 0.8282 - lr: 0.0010\n",
            "Epoch 26/40\n",
            "1264/1266 [============================>.] - ETA: 0s - loss: 0.1089 - acc: 0.9578\n",
            "Epoch 26: saving model to /content/gdrive/MyDrive/CS/third year/vp/epochs/weights.26.h5\n",
            "1266/1266 [==============================] - 26s 20ms/step - loss: 0.1089 - acc: 0.9578 - val_loss: 0.4981 - val_acc: 0.8373 - lr: 0.0010\n",
            "Epoch 27/40\n",
            "1265/1266 [============================>.] - ETA: 0s - loss: 0.1029 - acc: 0.9608\n",
            "Epoch 27: saving model to /content/gdrive/MyDrive/CS/third year/vp/epochs/weights.27.h5\n",
            "1266/1266 [==============================] - 26s 20ms/step - loss: 0.1029 - acc: 0.9608 - val_loss: 0.8517 - val_acc: 0.7673 - lr: 0.0010\n",
            "Epoch 28/40\n",
            "1263/1266 [============================>.] - ETA: 0s - loss: 0.0987 - acc: 0.9603\n",
            "Epoch 28: saving model to /content/gdrive/MyDrive/CS/third year/vp/epochs/weights.28.h5\n",
            "1266/1266 [==============================] - 26s 20ms/step - loss: 0.0985 - acc: 0.9604 - val_loss: 0.6914 - val_acc: 0.8231 - lr: 0.0010\n",
            "Epoch 29/40\n",
            "1263/1266 [============================>.] - ETA: 0s - loss: 0.0968 - acc: 0.9610\n",
            "Epoch 29: saving model to /content/gdrive/MyDrive/CS/third year/vp/epochs/weights.29.h5\n",
            "1266/1266 [==============================] - 26s 20ms/step - loss: 0.0968 - acc: 0.9611 - val_loss: 0.5039 - val_acc: 0.8473 - lr: 0.0010\n",
            "Epoch 30/40\n",
            "1264/1266 [============================>.] - ETA: 0s - loss: 0.0918 - acc: 0.9642\n",
            "Epoch 30: saving model to /content/gdrive/MyDrive/CS/third year/vp/epochs/weights.30.h5\n",
            "1266/1266 [==============================] - 26s 20ms/step - loss: 0.0919 - acc: 0.9641 - val_loss: 0.6366 - val_acc: 0.8269 - lr: 0.0010\n",
            "Epoch 31/40\n",
            "1264/1266 [============================>.] - ETA: 0s - loss: 0.0842 - acc: 0.9669\n",
            "Epoch 31: saving model to /content/gdrive/MyDrive/CS/third year/vp/epochs/weights.31.h5\n",
            "1266/1266 [==============================] - 25s 20ms/step - loss: 0.0841 - acc: 0.9669 - val_loss: 0.6687 - val_acc: 0.8269 - lr: 0.0010\n",
            "Epoch 32/40\n",
            "1264/1266 [============================>.] - ETA: 0s - loss: 0.0854 - acc: 0.9670\n",
            "Epoch 32: saving model to /content/gdrive/MyDrive/CS/third year/vp/epochs/weights.32.h5\n",
            "1266/1266 [==============================] - 25s 20ms/step - loss: 0.0853 - acc: 0.9670 - val_loss: 0.6020 - val_acc: 0.8458 - lr: 0.0010\n",
            "Epoch 33/40\n",
            "1264/1266 [============================>.] - ETA: 0s - loss: 0.0879 - acc: 0.9663\n",
            "Epoch 33: saving model to /content/gdrive/MyDrive/CS/third year/vp/epochs/weights.33.h5\n",
            "1266/1266 [==============================] - 26s 20ms/step - loss: 0.0879 - acc: 0.9663 - val_loss: 0.5939 - val_acc: 0.8307 - lr: 0.0010\n",
            "Epoch 34/40\n",
            "1264/1266 [============================>.] - ETA: 0s - loss: 0.0821 - acc: 0.9690\n",
            "Epoch 34: saving model to /content/gdrive/MyDrive/CS/third year/vp/epochs/weights.34.h5\n",
            "1266/1266 [==============================] - 26s 20ms/step - loss: 0.0821 - acc: 0.9690 - val_loss: 0.6343 - val_acc: 0.8176 - lr: 0.0010\n",
            "Epoch 35/40\n",
            "1264/1266 [============================>.] - ETA: 0s - loss: 0.0768 - acc: 0.9713\n",
            "Epoch 35: saving model to /content/gdrive/MyDrive/CS/third year/vp/epochs/weights.35.h5\n",
            "1266/1266 [==============================] - 25s 20ms/step - loss: 0.0769 - acc: 0.9712 - val_loss: 0.6253 - val_acc: 0.8398 - lr: 0.0010\n",
            "Epoch 36/40\n",
            "1263/1266 [============================>.] - ETA: 0s - loss: 0.0748 - acc: 0.9711\n",
            "Epoch 36: saving model to /content/gdrive/MyDrive/CS/third year/vp/epochs/weights.36.h5\n",
            "1266/1266 [==============================] - 26s 20ms/step - loss: 0.0749 - acc: 0.9711 - val_loss: 0.9293 - val_acc: 0.7618 - lr: 0.0010\n",
            "Epoch 37/40\n",
            "1265/1266 [============================>.] - ETA: 0s - loss: 0.0743 - acc: 0.9723\n",
            "Epoch 37: saving model to /content/gdrive/MyDrive/CS/third year/vp/epochs/weights.37.h5\n",
            "1266/1266 [==============================] - 25s 20ms/step - loss: 0.0743 - acc: 0.9723 - val_loss: 1.7604 - val_acc: 0.7098 - lr: 0.0010\n",
            "Epoch 38/40\n",
            "1265/1266 [============================>.] - ETA: 0s - loss: 0.0692 - acc: 0.9735\n",
            "Epoch 38: saving model to /content/gdrive/MyDrive/CS/third year/vp/epochs/weights.38.h5\n",
            "1266/1266 [==============================] - 26s 20ms/step - loss: 0.0692 - acc: 0.9735 - val_loss: 1.4683 - val_acc: 0.7571 - lr: 0.0010\n",
            "Epoch 39/40\n",
            "1263/1266 [============================>.] - ETA: 0s - loss: 0.0678 - acc: 0.9744\n",
            "Epoch 39: saving model to /content/gdrive/MyDrive/CS/third year/vp/epochs/weights.39.h5\n",
            "1266/1266 [==============================] - 25s 20ms/step - loss: 0.0677 - acc: 0.9744 - val_loss: 0.6483 - val_acc: 0.8242 - lr: 0.0010\n",
            "Epoch 40/40\n",
            "1264/1266 [============================>.] - ETA: 0s - loss: 0.0672 - acc: 0.9741\n",
            "Epoch 40: saving model to /content/gdrive/MyDrive/CS/third year/vp/epochs/weights.40.h5\n",
            "1266/1266 [==============================] - 25s 20ms/step - loss: 0.0671 - acc: 0.9741 - val_loss: 0.6068 - val_acc: 0.8531 - lr: 0.0010\n"
          ]
        }
      ],
      "source": [
        "rlrp = ReduceLROnPlateau(monitor='val_acc', factor=0.4, verbose=0, patience=patience_for_plato, min_lr=0.0000001)\n",
        "\n",
        "history=model.fit(x_train, y_train, batch_size=batch_size, epochs=epochs, validation_data=(x_val, y_val),\n",
        " callbacks=[tf.keras.callbacks.EarlyStopping(monitor='val_acc' ,patience=patience,restore_best_weights=True),rlrp,checkpoint_callback])"
      ]
    },
    {
      "cell_type": "code",
      "execution_count": null,
      "metadata": {
        "id": "Wu0EM6EG7fP3",
        "colab": {
          "base_uri": "https://localhost:8080/",
          "height": 404
        },
        "outputId": "7fb9d1b7-9926-4d7c-db61-82b6034fbe42"
      },
      "outputs": [
        {
          "output_type": "display_data",
          "data": {
            "text/plain": [
              "<Figure size 1440x432 with 2 Axes>"
            ],
            "image/png": "[encoded data removed]"
          },
          "metadata": {
            "needs_background": "light"
          }
        }
      ],
      "source": [
        "e=history.epoch\n",
        "epochs = [i for i in e]\n",
        "fig , ax = plt.subplots(1,2)\n",
        "train_acc = history.history['acc']\n",
        "train_loss = history.history['loss']\n",
        "test_acc = history.history['val_acc']\n",
        "test_loss = history.history['val_loss']\n",
        "\n",
        "fig.set_size_inches(20,6)\n",
        "ax[0].plot(epochs , train_loss , label = 'Training Loss')\n",
        "ax[0].plot(epochs , test_loss , label = 'Testing Loss')\n",
        "ax[0].set_title('Training & Testing Loss')\n",
        "ax[0].legend()\n",
        "ax[0].set_xlabel(\"Epochs\")\n",
        "\n",
        "ax[1].plot(epochs , train_acc , label = 'Training Accuracy')\n",
        "ax[1].plot(epochs , test_acc , label = 'Testing Accuracy')\n",
        "ax[1].set_title('Training & Testing Accuracy')\n",
        "ax[1].legend()\n",
        "ax[1].set_xlabel(\"Epochs\")\n",
        "plt.show()"
      ]
    },
    {
      "cell_type": "code",
      "source": [
        "##choosing the weights from the epoch with the best val_acc before the model started overfitting\n",
        "model.load_weights(\"/content/gdrive/MyDrive/CS/third year/vp/epochs/weights.29.h5\")"
      ],
      "metadata": {
        "id": "jO8PzCDAXLSx"
      },
      "execution_count": null,
      "outputs": []
    },
    {
      "cell_type": "code",
      "execution_count": null,
      "metadata": {
        "id": "Uu3Ow8Oq7fP3",
        "colab": {
          "base_uri": "https://localhost:8080/"
        },
        "outputId": "e5864c9e-3937-4a6d-af3a-5f27d7a93bf8"
      },
      "outputs": [
        {
          "output_type": "stream",
          "name": "stdout",
          "text": [
            "1266/1266 [==============================] - 9s 7ms/step - loss: 0.0653 - acc: 0.9761\n",
            "Accuracy of our model on training data :  97.60987758636475 %\n",
            "141/141 [==============================] - 1s 7ms/step - loss: 0.5039 - acc: 0.8473\n",
            "Accuracy of our model on validation data :  84.7333312034607 %\n"
          ]
        }
      ],
      "source": [
        "print(\"Accuracy of our model on training data : \" , model.evaluate(x_train,y_train)[1]*100 , \"%\")\n",
        "print(\"Accuracy of our model on validation data : \" , model.evaluate(x_val,y_val)[1]*100 , \"%\")"
      ]
    },
    {
      "cell_type": "code",
      "execution_count": null,
      "metadata": {
        "id": "SWklCBeg7fP3"
      },
      "outputs": [],
      "source": [
        "if CFG.save_weights:\n",
        "    model.save('regular_model87.h5')\n",
        "    print(\"weights saved\")"
      ]
    },
    {
      "cell_type": "code",
      "execution_count": null,
      "metadata": {
        "id": "gNz8FLHo7fP4",
        "colab": {
          "base_uri": "https://localhost:8080/"
        },
        "outputId": "38e6029f-56e4-48b6-a1f5-23edc187b02b"
      },
      "outputs": [
        {
          "output_type": "stream",
          "name": "stdout",
          "text": [
            "141/141 [==============================] - 1s 6ms/step\n"
          ]
        },
        {
          "output_type": "execute_result",
          "data": {
            "text/plain": [
              "4500"
            ]
          },
          "metadata": {},
          "execution_count": 84
        }
      ],
      "source": [
        "# predicting on val data.\n",
        "y_pred = model.predict(x_val)\n",
        "len(y_pred)"
      ]
    },
    {
      "cell_type": "code",
      "execution_count": null,
      "metadata": {
        "id": "v1HLzi-C7fP4"
      },
      "outputs": [],
      "source": [
        "for i in range(len(y_pred)):\n",
        "    y_pred[i][0] =round(y_pred[i][0])"
      ]
    },
    {
      "cell_type": "code",
      "execution_count": null,
      "metadata": {
        "id": "Iqhy91F77fP4",
        "colab": {
          "base_uri": "https://localhost:8080/",
          "height": 362
        },
        "outputId": "25c4491f-71ee-4ab8-feb1-211b5a3f51d5"
      },
      "outputs": [
        {
          "output_type": "execute_result",
          "data": {
            "text/plain": [
              "   Predicted Labels  Actual Labels\n",
              "0               0.0          False\n",
              "1               1.0           True\n",
              "2               0.0          False\n",
              "3               1.0           True\n",
              "4               0.0          False\n",
              "5               1.0           True\n",
              "6               0.0          False\n",
              "7               0.0          False\n",
              "8               0.0          False\n",
              "9               1.0           True"
            ],
            "text/html": [
              "\n",
              "  <div id=\"df-60044318-0532-49b7-b38e-15f4dbc9659a\">\n",
              "    <div class=\"colab-df-container\">\n",
              "      <div>\n",
              "<style scoped>\n",
              "    .dataframe tbody tr th:only-of-type {\n",
              "        vertical-align: middle;\n",
              "    }\n",
              "\n",
              "    .dataframe tbody tr th {\n",
              "        vertical-align: top;\n",
              "    }\n",
              "\n",
              "    .dataframe thead th {\n",
              "        text-align: right;\n",
              "    }\n",
              "</style>\n",
              "<table border=\"1\" class=\"dataframe\">\n",
              "  <thead>\n",
              "    <tr style=\"text-align: right;\">\n",
              "      <th></th>\n",
              "      <th>Predicted Labels</th>\n",
              "      <th>Actual Labels</th>\n",
              "    </tr>\n",
              "  </thead>\n",
              "  <tbody>\n",
              "    <tr>\n",
              "      <th>0</th>\n",
              "      <td>0.0</td>\n",
              "      <td>False</td>\n",
              "    </tr>\n",
              "    <tr>\n",
              "      <th>1</th>\n",
              "      <td>1.0</td>\n",
              "      <td>True</td>\n",
              "    </tr>\n",
              "    <tr>\n",
              "      <th>2</th>\n",
              "      <td>0.0</td>\n",
              "      <td>False</td>\n",
              "    </tr>\n",
              "    <tr>\n",
              "      <th>3</th>\n",
              "      <td>1.0</td>\n",
              "      <td>True</td>\n",
              "    </tr>\n",
              "    <tr>\n",
              "      <th>4</th>\n",
              "      <td>0.0</td>\n",
              "      <td>False</td>\n",
              "    </tr>\n",
              "    <tr>\n",
              "      <th>5</th>\n",
              "      <td>1.0</td>\n",
              "      <td>True</td>\n",
              "    </tr>\n",
              "    <tr>\n",
              "      <th>6</th>\n",
              "      <td>0.0</td>\n",
              "      <td>False</td>\n",
              "    </tr>\n",
              "    <tr>\n",
              "      <th>7</th>\n",
              "      <td>0.0</td>\n",
              "      <td>False</td>\n",
              "    </tr>\n",
              "    <tr>\n",
              "      <th>8</th>\n",
              "      <td>0.0</td>\n",
              "      <td>False</td>\n",
              "    </tr>\n",
              "    <tr>\n",
              "      <th>9</th>\n",
              "      <td>1.0</td>\n",
              "      <td>True</td>\n",
              "    </tr>\n",
              "  </tbody>\n",
              "</table>\n",
              "</div>\n",
              "      <button class=\"colab-df-convert\" onclick=\"convertToInteractive('df-60044318-0532-49b7-b38e-15f4dbc9659a')\"\n",
              "              title=\"Convert this dataframe to an interactive table.\"\n",
              "              style=\"display:none;\">\n",
              "        \n",
              "  <svg xmlns=\"http://www.w3.org/2000/svg\" height=\"24px\"viewBox=\"0 0 24 24\"\n",
              "       width=\"24px\">\n",
              "    <path d=\"M0 0h24v24H0V0z\" fill=\"none\"/>\n",
              "    <path d=\"M18.56 5.44l.94 2.06.94-2.06 2.06-.94-2.06-.94-.94-2.06-.94 2.06-2.06.94zm-11 1L8.5 8.5l.94-2.06 2.06-.94-2.06-.94L8.5 2.5l-.94 2.06-2.06.94zm10 10l.94 2.06.94-2.06 2.06-.94-2.06-.94-.94-2.06-.94 2.06-2.06.94z\"/><path d=\"M17.41 7.96l-1.37-1.37c-.4-.4-.92-.59-1.43-.59-.52 0-1.04.2-1.43.59L10.3 9.45l-7.72 7.72c-.78.78-.78 2.05 0 2.83L4 21.41c.39.39.9.59 1.41.59.51 0 1.02-.2 1.41-.59l7.78-7.78 2.81-2.81c.8-.78.8-2.07 0-2.86zM5.41 20L4 18.59l7.72-7.72 1.47 1.35L5.41 20z\"/>\n",
              "  </svg>\n",
              "      </button>\n",
              "      \n",
              "  <style>\n",
              "    .colab-df-container {\n",
              "      display:flex;\n",
              "      flex-wrap:wrap;\n",
              "      gap: 12px;\n",
              "    }\n",
              "\n",
              "    .colab-df-convert {\n",
              "      background-color: #E8F0FE;\n",
              "      border: none;\n",
              "      border-radius: 50%;\n",
              "      cursor: pointer;\n",
              "      display: none;\n",
              "      fill: #1967D2;\n",
              "      height: 32px;\n",
              "      padding: 0 0 0 0;\n",
              "      width: 32px;\n",
              "    }\n",
              "\n",
              "    .colab-df-convert:hover {\n",
              "      background-color: #E2EBFA;\n",
              "      box-shadow: 0px 1px 2px rgba(60, 64, 67, 0.3), 0px 1px 3px 1px rgba(60, 64, 67, 0.15);\n",
              "      fill: #174EA6;\n",
              "    }\n",
              "\n",
              "    [theme=dark] .colab-df-convert {\n",
              "      background-color: #3B4455;\n",
              "      fill: #D2E3FC;\n",
              "    }\n",
              "\n",
              "    [theme=dark] .colab-df-convert:hover {\n",
              "      background-color: #434B5C;\n",
              "      box-shadow: 0px 1px 3px 1px rgba(0, 0, 0, 0.15);\n",
              "      filter: drop-shadow(0px 1px 2px rgba(0, 0, 0, 0.3));\n",
              "      fill: #FFFFFF;\n",
              "    }\n",
              "  </style>\n",
              "\n",
              "      <script>\n",
              "        const buttonEl =\n",
              "          document.querySelector('#df-60044318-0532-49b7-b38e-15f4dbc9659a button.colab-df-convert');\n",
              "        buttonEl.style.display =\n",
              "          google.colab.kernel.accessAllowed ? 'block' : 'none';\n",
              "\n",
              "        async function convertToInteractive(key) {\n",
              "          const element = document.querySelector('#df-60044318-0532-49b7-b38e-15f4dbc9659a');\n",
              "          const dataTable =\n",
              "            await google.colab.kernel.invokeFunction('convertToInteractive',\n",
              "                                                     [key], {});\n",
              "          if (!dataTable) return;\n",
              "\n",
              "          const docLinkHtml = 'Like what you see? Visit the ' +\n",
              "            '<a target=\"_blank\" href=https://colab.research.google.com/notebooks/data_table.ipynb>data table notebook</a>'\n",
              "            + ' to learn more about interactive tables.';\n",
              "          element.innerHTML = '';\n",
              "          dataTable['output_type'] = 'display_data';\n",
              "          await google.colab.output.renderOutput(dataTable, element);\n",
              "          const docLink = document.createElement('div');\n",
              "          docLink.innerHTML = docLinkHtml;\n",
              "          element.appendChild(docLink);\n",
              "        }\n",
              "      </script>\n",
              "    </div>\n",
              "  </div>\n",
              "  "
            ]
          },
          "metadata": {},
          "execution_count": 86
        }
      ],
      "source": [
        "df = pd.DataFrame(columns=['Predicted Labels', 'Actual Labels'])\n",
        "df['Predicted Labels'] = y_pred.flatten()\n",
        "df['Actual Labels'] = y_val.flatten()\n",
        "\n",
        "df.head(10)"
      ]
    },
    {
      "cell_type": "code",
      "execution_count": null,
      "metadata": {
        "id": "fLSRpOus7fP5"
      },
      "outputs": [],
      "source": [
        "import seaborn as sns\n",
        "from sklearn.metrics import confusion_matrix, classification_report\n",
        "from sklearn.metrics import roc_curve\n",
        "from sklearn.metrics import roc_auc_score\n",
        "from matplotlib import pyplot"
      ]
    },
    {
      "cell_type": "code",
      "execution_count": null,
      "metadata": {
        "id": "vq8dq_kJ7fP5",
        "colab": {
          "base_uri": "https://localhost:8080/",
          "height": 359
        },
        "outputId": "ae6ec362-bd1c-44c4-b8a7-2064161ea74d"
      },
      "outputs": [
        {
          "output_type": "display_data",
          "data": {
            "text/plain": [
              "<Figure size 432x360 with 2 Axes>"
            ],
            "image/png": "[encoded data removed]"
          },
          "metadata": {
            "needs_background": "light"
          }
        }
      ],
      "source": [
        "cm = confusion_matrix(y_val, y_pred)\n",
        "plt.figure(figsize = (6, 5))\n",
        "sns.heatmap(cm, linecolor='white', cmap='Blues', linewidth=1, annot=True, fmt='')\n",
        "plt.title('Confusion Matrix', size=20)\n",
        "plt.xlabel('Predicted Labels', size=14)\n",
        "plt.ylabel('Actual Labels', size=14)\n",
        "plt.show()"
      ]
    },
    {
      "cell_type": "code",
      "execution_count": null,
      "metadata": {
        "id": "j-M73rme7fP5",
        "colab": {
          "base_uri": "https://localhost:8080/"
        },
        "outputId": "dd6a4744-2a45-46e0-e9da-48bb918f82e5"
      },
      "outputs": [
        {
          "output_type": "stream",
          "name": "stdout",
          "text": [
            "141/141 [==============================] - 1s 6ms/step\n",
            "141/141 [==============================] - 1s 6ms/step\n",
            "141/141 [==============================] - 1s 6ms/step\n"
          ]
        },
        {
          "output_type": "execute_result",
          "data": {
            "text/plain": [
              "(0.8788146057505732, 0.8682467758800976, 0.8473333333333334)"
            ]
          },
          "metadata": {},
          "execution_count": 89
        }
      ],
      "source": [
        "f1_score(y_val, np.round(model.predict(x_val))),recall_score(y_val, np.round(model.predict(x_val))),accuracy_score(y_val, np.round(model.predict(x_val)))"
      ]
    },
    {
      "cell_type": "code",
      "execution_count": null,
      "metadata": {
        "id": "cfVZ8hcC7fP5",
        "colab": {
          "base_uri": "https://localhost:8080/",
          "height": 1000
        },
        "outputId": "e242b883-bb90-4fd3-9acf-114f3822a2d5"
      },
      "outputs": [
        {
          "output_type": "execute_result",
          "data": {
            "image/png": "[encoded data removed]",
            "text/plain": [
              "<IPython.core.display.Image object>"
            ]
          },
          "metadata": {},
          "execution_count": 90
        }
      ],
      "source": [
        "tf.keras.utils.plot_model(model, show_shapes=True, show_dtype=True, show_layer_names=True, expand_nested=False)"
      ]
    },
    {
      "cell_type": "code",
      "execution_count": null,
      "metadata": {
        "id": "NbIO-6M_7fP6"
      },
      "outputs": [],
      "source": [
        "if CFG.feature_extract_test:\n",
        "    X, Y = [], []\n",
        "    for i,file in enumerate(os.listdir(files_dir)[5000:5500]):\n",
        "        feature = get_features(os.path.join(files_dir,file))\n",
        "        X.append(feature)\n",
        "            # appending emotion 3 times as we have made 3 augmentation techniques on each audio file.\n",
        "        Y.append(df[\"professional-diagnosis\"].loc[df[\"file_name\"]==file].values[0])\n",
        "        if(i%100==0):\n",
        "            print(i)\n",
        "    test_features = pd.DataFrame(X)\n",
        "    test_features['labels'] = Y\n",
        "    test_features.to_csv('test_features.csv', index=False)\n",
        "    test_features.head()"
      ]
    },
    {
      "cell_type": "code",
      "execution_count": null,
      "metadata": {
        "id": "O2VMy9Wf7fP6"
      },
      "outputs": [],
      "source": [
        "test_features = pd.read_csv(\"/content/gdrive/MyDrive/CS/third year/semester e/Voice Processing/Data/test_features.csv\")"
      ]
    },
    {
      "cell_type": "code",
      "execution_count": null,
      "metadata": {
        "id": "J1DG3kLx7fP6",
        "colab": {
          "base_uri": "https://localhost:8080/",
          "height": 299
        },
        "outputId": "535d2bd3-4847-4ce1-e744-d17793a79f92"
      },
      "outputs": [
        {
          "output_type": "execute_result",
          "data": {
            "text/plain": [
              "          0         1         2         3         4         5         6  \\\n",
              "0  0.083333  0.196593  0.232184  0.410434  0.959038  0.459528  0.370831   \n",
              "1  0.099846  0.574448  0.640963  0.567182  0.617855  0.461433  0.420900   \n",
              "2  0.074958  0.480079  0.331349  0.359254  0.241088  0.491897  0.350522   \n",
              "3  0.064965  0.999996  0.349046  0.084231  0.108177  0.221526  0.065852   \n",
              "4  0.048586  0.099845  0.143571  0.472318  0.989016  0.396835  0.114040   \n",
              "\n",
              "          7         8         9  ...          865          866          867  \\\n",
              "0  0.447733  0.559178  0.223871  ...  1295.430370  1188.427835  1131.367443   \n",
              "1  0.507860  0.720867  0.768377  ...  1008.941380   985.372975  1011.440082   \n",
              "2  0.515516  0.456438  0.636179  ...   916.940687   899.465795   898.200540   \n",
              "3  0.160567  0.561014  0.178519  ...   787.001283   766.899693   767.517604   \n",
              "4  0.138395  0.237208  0.092520  ...  1017.574598  1044.652662  1023.418930   \n",
              "\n",
              "           868          869          870          871          872  \\\n",
              "0  1212.189642  1357.534814  1440.050351  1394.131030  1295.153809   \n",
              "1   981.509127   989.256712  1014.821007  1048.221391  1075.135023   \n",
              "2   899.802221   910.635415   889.459211   910.151568   924.586913   \n",
              "3   742.531608   730.434145   738.419267   734.284443   768.021960   \n",
              "4  1028.292075  1154.380415  1162.902760  1190.370686  1212.655064   \n",
              "\n",
              "           873  labels  \n",
              "0  1173.510194    True  \n",
              "1  1020.765866   False  \n",
              "2   900.287018    True  \n",
              "3   769.633828    True  \n",
              "4  1097.642249    True  \n",
              "\n",
              "[5 rows x 875 columns]"
            ],
            "text/html": [
              "\n",
              "  <div id=\"df-082fb1d7-b209-4a35-ada9-fc875fa9d356\">\n",
              "    <div class=\"colab-df-container\">\n",
              "      <div>\n",
              "<style scoped>\n",
              "    .dataframe tbody tr th:only-of-type {\n",
              "        vertical-align: middle;\n",
              "    }\n",
              "\n",
              "    .dataframe tbody tr th {\n",
              "        vertical-align: top;\n",
              "    }\n",
              "\n",
              "    .dataframe thead th {\n",
              "        text-align: right;\n",
              "    }\n",
              "</style>\n",
              "<table border=\"1\" class=\"dataframe\">\n",
              "  <thead>\n",
              "    <tr style=\"text-align: right;\">\n",
              "      <th></th>\n",
              "      <th>0</th>\n",
              "      <th>1</th>\n",
              "      <th>2</th>\n",
              "      <th>3</th>\n",
              "      <th>4</th>\n",
              "      <th>5</th>\n",
              "      <th>6</th>\n",
              "      <th>7</th>\n",
              "      <th>8</th>\n",
              "      <th>9</th>\n",
              "      <th>...</th>\n",
              "      <th>865</th>\n",
              "      <th>866</th>\n",
              "      <th>867</th>\n",
              "      <th>868</th>\n",
              "      <th>869</th>\n",
              "      <th>870</th>\n",
              "      <th>871</th>\n",
              "      <th>872</th>\n",
              "      <th>873</th>\n",
              "      <th>labels</th>\n",
              "    </tr>\n",
              "  </thead>\n",
              "  <tbody>\n",
              "    <tr>\n",
              "      <th>0</th>\n",
              "      <td>0.083333</td>\n",
              "      <td>0.196593</td>\n",
              "      <td>0.232184</td>\n",
              "      <td>0.410434</td>\n",
              "      <td>0.959038</td>\n",
              "      <td>0.459528</td>\n",
              "      <td>0.370831</td>\n",
              "      <td>0.447733</td>\n",
              "      <td>0.559178</td>\n",
              "      <td>0.223871</td>\n",
              "      <td>...</td>\n",
              "      <td>1295.430370</td>\n",
              "      <td>1188.427835</td>\n",
              "      <td>1131.367443</td>\n",
              "      <td>1212.189642</td>\n",
              "      <td>1357.534814</td>\n",
              "      <td>1440.050351</td>\n",
              "      <td>1394.131030</td>\n",
              "      <td>1295.153809</td>\n",
              "      <td>1173.510194</td>\n",
              "      <td>True</td>\n",
              "    </tr>\n",
              "    <tr>\n",
              "      <th>1</th>\n",
              "      <td>0.099846</td>\n",
              "      <td>0.574448</td>\n",
              "      <td>0.640963</td>\n",
              "      <td>0.567182</td>\n",
              "      <td>0.617855</td>\n",
              "      <td>0.461433</td>\n",
              "      <td>0.420900</td>\n",
              "      <td>0.507860</td>\n",
              "      <td>0.720867</td>\n",
              "      <td>0.768377</td>\n",
              "      <td>...</td>\n",
              "      <td>1008.941380</td>\n",
              "      <td>985.372975</td>\n",
              "      <td>1011.440082</td>\n",
              "      <td>981.509127</td>\n",
              "      <td>989.256712</td>\n",
              "      <td>1014.821007</td>\n",
              "      <td>1048.221391</td>\n",
              "      <td>1075.135023</td>\n",
              "      <td>1020.765866</td>\n",
              "      <td>False</td>\n",
              "    </tr>\n",
              "    <tr>\n",
              "      <th>2</th>\n",
              "      <td>0.074958</td>\n",
              "      <td>0.480079</td>\n",
              "      <td>0.331349</td>\n",
              "      <td>0.359254</td>\n",
              "      <td>0.241088</td>\n",
              "      <td>0.491897</td>\n",
              "      <td>0.350522</td>\n",
              "      <td>0.515516</td>\n",
              "      <td>0.456438</td>\n",
              "      <td>0.636179</td>\n",
              "      <td>...</td>\n",
              "      <td>916.940687</td>\n",
              "      <td>899.465795</td>\n",
              "      <td>898.200540</td>\n",
              "      <td>899.802221</td>\n",
              "      <td>910.635415</td>\n",
              "      <td>889.459211</td>\n",
              "      <td>910.151568</td>\n",
              "      <td>924.586913</td>\n",
              "      <td>900.287018</td>\n",
              "      <td>True</td>\n",
              "    </tr>\n",
              "    <tr>\n",
              "      <th>3</th>\n",
              "      <td>0.064965</td>\n",
              "      <td>0.999996</td>\n",
              "      <td>0.349046</td>\n",
              "      <td>0.084231</td>\n",
              "      <td>0.108177</td>\n",
              "      <td>0.221526</td>\n",
              "      <td>0.065852</td>\n",
              "      <td>0.160567</td>\n",
              "      <td>0.561014</td>\n",
              "      <td>0.178519</td>\n",
              "      <td>...</td>\n",
              "      <td>787.001283</td>\n",
              "      <td>766.899693</td>\n",
              "      <td>767.517604</td>\n",
              "      <td>742.531608</td>\n",
              "      <td>730.434145</td>\n",
              "      <td>738.419267</td>\n",
              "      <td>734.284443</td>\n",
              "      <td>768.021960</td>\n",
              "      <td>769.633828</td>\n",
              "      <td>True</td>\n",
              "    </tr>\n",
              "    <tr>\n",
              "      <th>4</th>\n",
              "      <td>0.048586</td>\n",
              "      <td>0.099845</td>\n",
              "      <td>0.143571</td>\n",
              "      <td>0.472318</td>\n",
              "      <td>0.989016</td>\n",
              "      <td>0.396835</td>\n",
              "      <td>0.114040</td>\n",
              "      <td>0.138395</td>\n",
              "      <td>0.237208</td>\n",
              "      <td>0.092520</td>\n",
              "      <td>...</td>\n",
              "      <td>1017.574598</td>\n",
              "      <td>1044.652662</td>\n",
              "      <td>1023.418930</td>\n",
              "      <td>1028.292075</td>\n",
              "      <td>1154.380415</td>\n",
              "      <td>1162.902760</td>\n",
              "      <td>1190.370686</td>\n",
              "      <td>1212.655064</td>\n",
              "      <td>1097.642249</td>\n",
              "      <td>True</td>\n",
              "    </tr>\n",
              "  </tbody>\n",
              "</table>\n",
              "<p>5 rows × 875 columns</p>\n",
              "</div>\n",
              "      <button class=\"colab-df-convert\" onclick=\"convertToInteractive('df-082fb1d7-b209-4a35-ada9-fc875fa9d356')\"\n",
              "              title=\"Convert this dataframe to an interactive table.\"\n",
              "              style=\"display:none;\">\n",
              "        \n",
              "  <svg xmlns=\"http://www.w3.org/2000/svg\" height=\"24px\"viewBox=\"0 0 24 24\"\n",
              "       width=\"24px\">\n",
              "    <path d=\"M0 0h24v24H0V0z\" fill=\"none\"/>\n",
              "    <path d=\"M18.56 5.44l.94 2.06.94-2.06 2.06-.94-2.06-.94-.94-2.06-.94 2.06-2.06.94zm-11 1L8.5 8.5l.94-2.06 2.06-.94-2.06-.94L8.5 2.5l-.94 2.06-2.06.94zm10 10l.94 2.06.94-2.06 2.06-.94-2.06-.94-.94-2.06-.94 2.06-2.06.94z\"/><path d=\"M17.41 7.96l-1.37-1.37c-.4-.4-.92-.59-1.43-.59-.52 0-1.04.2-1.43.59L10.3 9.45l-7.72 7.72c-.78.78-.78 2.05 0 2.83L4 21.41c.39.39.9.59 1.41.59.51 0 1.02-.2 1.41-.59l7.78-7.78 2.81-2.81c.8-.78.8-2.07 0-2.86zM5.41 20L4 18.59l7.72-7.72 1.47 1.35L5.41 20z\"/>\n",
              "  </svg>\n",
              "      </button>\n",
              "      \n",
              "  <style>\n",
              "    .colab-df-container {\n",
              "      display:flex;\n",
              "      flex-wrap:wrap;\n",
              "      gap: 12px;\n",
              "    }\n",
              "\n",
              "    .colab-df-convert {\n",
              "      background-color: #E8F0FE;\n",
              "      border: none;\n",
              "      border-radius: 50%;\n",
              "      cursor: pointer;\n",
              "      display: none;\n",
              "      fill: #1967D2;\n",
              "      height: 32px;\n",
              "      padding: 0 0 0 0;\n",
              "      width: 32px;\n",
              "    }\n",
              "\n",
              "    .colab-df-convert:hover {\n",
              "      background-color: #E2EBFA;\n",
              "      box-shadow: 0px 1px 2px rgba(60, 64, 67, 0.3), 0px 1px 3px 1px rgba(60, 64, 67, 0.15);\n",
              "      fill: #174EA6;\n",
              "    }\n",
              "\n",
              "    [theme=dark] .colab-df-convert {\n",
              "      background-color: #3B4455;\n",
              "      fill: #D2E3FC;\n",
              "    }\n",
              "\n",
              "    [theme=dark] .colab-df-convert:hover {\n",
              "      background-color: #434B5C;\n",
              "      box-shadow: 0px 1px 3px 1px rgba(0, 0, 0, 0.15);\n",
              "      filter: drop-shadow(0px 1px 2px rgba(0, 0, 0, 0.3));\n",
              "      fill: #FFFFFF;\n",
              "    }\n",
              "  </style>\n",
              "\n",
              "      <script>\n",
              "        const buttonEl =\n",
              "          document.querySelector('#df-082fb1d7-b209-4a35-ada9-fc875fa9d356 button.colab-df-convert');\n",
              "        buttonEl.style.display =\n",
              "          google.colab.kernel.accessAllowed ? 'block' : 'none';\n",
              "\n",
              "        async function convertToInteractive(key) {\n",
              "          const element = document.querySelector('#df-082fb1d7-b209-4a35-ada9-fc875fa9d356');\n",
              "          const dataTable =\n",
              "            await google.colab.kernel.invokeFunction('convertToInteractive',\n",
              "                                                     [key], {});\n",
              "          if (!dataTable) return;\n",
              "\n",
              "          const docLinkHtml = 'Like what you see? Visit the ' +\n",
              "            '<a target=\"_blank\" href=https://colab.research.google.com/notebooks/data_table.ipynb>data table notebook</a>'\n",
              "            + ' to learn more about interactive tables.';\n",
              "          element.innerHTML = '';\n",
              "          dataTable['output_type'] = 'display_data';\n",
              "          await google.colab.output.renderOutput(dataTable, element);\n",
              "          const docLink = document.createElement('div');\n",
              "          docLink.innerHTML = docLinkHtml;\n",
              "          element.appendChild(docLink);\n",
              "        }\n",
              "      </script>\n",
              "    </div>\n",
              "  </div>\n",
              "  "
            ]
          },
          "metadata": {},
          "execution_count": 93
        }
      ],
      "source": [
        "test_features.head(5)"
      ]
    },
    {
      "cell_type": "code",
      "execution_count": null,
      "metadata": {
        "id": "Qjk_28hH7fP6"
      },
      "outputs": [],
      "source": [
        "x_test = test_features.iloc[: ,:-1].values\n",
        "y_test = test_features['labels'].values"
      ]
    },
    {
      "cell_type": "code",
      "execution_count": null,
      "metadata": {
        "id": "Fc6vmukQ7fP6",
        "colab": {
          "base_uri": "https://localhost:8080/"
        },
        "outputId": "bc765034-ef95-468a-8251-eed0d7789e67"
      },
      "outputs": [
        {
          "output_type": "execute_result",
          "data": {
            "text/plain": [
              "(500, 874)"
            ]
          },
          "metadata": {},
          "execution_count": 95
        }
      ],
      "source": [
        "x_test = scaler.transform(x_test)\n",
        "x_test.shape"
      ]
    },
    {
      "cell_type": "code",
      "execution_count": null,
      "metadata": {
        "id": "y9slK_397fP7",
        "colab": {
          "base_uri": "https://localhost:8080/"
        },
        "outputId": "e8851b66-bbbb-4551-a8ce-45eabff91efd"
      },
      "outputs": [
        {
          "output_type": "execute_result",
          "data": {
            "text/plain": [
              "((500, 874, 1), (500,))"
            ]
          },
          "metadata": {},
          "execution_count": 96
        }
      ],
      "source": [
        "# making our data compatible to model.\n",
        "x_test = np.expand_dims(x_test, axis=2)\n",
        "x_test.shape, y_test.shape"
      ]
    },
    {
      "cell_type": "code",
      "execution_count": null,
      "metadata": {
        "id": "PX5R0Y-i7fP7",
        "colab": {
          "base_uri": "https://localhost:8080/"
        },
        "outputId": "832b670e-9a2f-4743-d9d5-d61b653b5296"
      },
      "outputs": [
        {
          "output_type": "stream",
          "name": "stdout",
          "text": [
            "16/16 [==============================] - 0s 7ms/step - loss: 0.6372 - acc: 0.8300\n",
            "Accuracy of our model on test data :  82.99999833106995 %\n"
          ]
        }
      ],
      "source": [
        "print(\"Accuracy of our model on test data : \" , model.evaluate(x_test,y_test)[1]*100 , \"%\")"
      ]
    },
    {
      "cell_type": "code",
      "execution_count": null,
      "metadata": {
        "id": "a7poobFi7fP7",
        "colab": {
          "base_uri": "https://localhost:8080/"
        },
        "outputId": "d85c04c5-d0e0-4c70-f36f-97a71b451ae4"
      },
      "outputs": [
        {
          "output_type": "stream",
          "name": "stdout",
          "text": [
            "16/16 [==============================] - 0s 5ms/step\n"
          ]
        },
        {
          "output_type": "execute_result",
          "data": {
            "text/plain": [
              "500"
            ]
          },
          "metadata": {},
          "execution_count": 98
        }
      ],
      "source": [
        "# predicting on test data.\n",
        "y_pred_test = model.predict(x_test)\n",
        "len(y_pred_test)"
      ]
    },
    {
      "cell_type": "code",
      "execution_count": null,
      "metadata": {
        "id": "UGQkpJG07fP7"
      },
      "outputs": [],
      "source": [
        "for i in range(len(y_pred_test)):\n",
        "    y_pred_test[i][0] =round(y_pred_test[i][0])"
      ]
    },
    {
      "cell_type": "code",
      "execution_count": null,
      "metadata": {
        "id": "x5P-3Ulm7fP8",
        "colab": {
          "base_uri": "https://localhost:8080/",
          "height": 362
        },
        "outputId": "aadddf25-412a-4539-ad44-0154eb835b66"
      },
      "outputs": [
        {
          "output_type": "execute_result",
          "data": {
            "text/plain": [
              "   Predicted Labels  Actual Labels\n",
              "0               1.0           True\n",
              "1               0.0          False\n",
              "2               1.0           True\n",
              "3               1.0           True\n",
              "4               1.0           True\n",
              "5               0.0          False\n",
              "6               0.0           True\n",
              "7               1.0          False\n",
              "8               0.0           True\n",
              "9               1.0           True"
            ],
            "text/html": [
              "\n",
              "  <div id=\"df-55d59cfd-ba31-4432-a5a3-b395adb0e873\">\n",
              "    <div class=\"colab-df-container\">\n",
              "      <div>\n",
              "<style scoped>\n",
              "    .dataframe tbody tr th:only-of-type {\n",
              "        vertical-align: middle;\n",
              "    }\n",
              "\n",
              "    .dataframe tbody tr th {\n",
              "        vertical-align: top;\n",
              "    }\n",
              "\n",
              "    .dataframe thead th {\n",
              "        text-align: right;\n",
              "    }\n",
              "</style>\n",
              "<table border=\"1\" class=\"dataframe\">\n",
              "  <thead>\n",
              "    <tr style=\"text-align: right;\">\n",
              "      <th></th>\n",
              "      <th>Predicted Labels</th>\n",
              "      <th>Actual Labels</th>\n",
              "    </tr>\n",
              "  </thead>\n",
              "  <tbody>\n",
              "    <tr>\n",
              "      <th>0</th>\n",
              "      <td>1.0</td>\n",
              "      <td>True</td>\n",
              "    </tr>\n",
              "    <tr>\n",
              "      <th>1</th>\n",
              "      <td>0.0</td>\n",
              "      <td>False</td>\n",
              "    </tr>\n",
              "    <tr>\n",
              "      <th>2</th>\n",
              "      <td>1.0</td>\n",
              "      <td>True</td>\n",
              "    </tr>\n",
              "    <tr>\n",
              "      <th>3</th>\n",
              "      <td>1.0</td>\n",
              "      <td>True</td>\n",
              "    </tr>\n",
              "    <tr>\n",
              "      <th>4</th>\n",
              "      <td>1.0</td>\n",
              "      <td>True</td>\n",
              "    </tr>\n",
              "    <tr>\n",
              "      <th>5</th>\n",
              "      <td>0.0</td>\n",
              "      <td>False</td>\n",
              "    </tr>\n",
              "    <tr>\n",
              "      <th>6</th>\n",
              "      <td>0.0</td>\n",
              "      <td>True</td>\n",
              "    </tr>\n",
              "    <tr>\n",
              "      <th>7</th>\n",
              "      <td>1.0</td>\n",
              "      <td>False</td>\n",
              "    </tr>\n",
              "    <tr>\n",
              "      <th>8</th>\n",
              "      <td>0.0</td>\n",
              "      <td>True</td>\n",
              "    </tr>\n",
              "    <tr>\n",
              "      <th>9</th>\n",
              "      <td>1.0</td>\n",
              "      <td>True</td>\n",
              "    </tr>\n",
              "  </tbody>\n",
              "</table>\n",
              "</div>\n",
              "      <button class=\"colab-df-convert\" onclick=\"convertToInteractive('df-55d59cfd-ba31-4432-a5a3-b395adb0e873')\"\n",
              "              title=\"Convert this dataframe to an interactive table.\"\n",
              "              style=\"display:none;\">\n",
              "        \n",
              "  <svg xmlns=\"http://www.w3.org/2000/svg\" height=\"24px\"viewBox=\"0 0 24 24\"\n",
              "       width=\"24px\">\n",
              "    <path d=\"M0 0h24v24H0V0z\" fill=\"none\"/>\n",
              "    <path d=\"M18.56 5.44l.94 2.06.94-2.06 2.06-.94-2.06-.94-.94-2.06-.94 2.06-2.06.94zm-11 1L8.5 8.5l.94-2.06 2.06-.94-2.06-.94L8.5 2.5l-.94 2.06-2.06.94zm10 10l.94 2.06.94-2.06 2.06-.94-2.06-.94-.94-2.06-.94 2.06-2.06.94z\"/><path d=\"M17.41 7.96l-1.37-1.37c-.4-.4-.92-.59-1.43-.59-.52 0-1.04.2-1.43.59L10.3 9.45l-7.72 7.72c-.78.78-.78 2.05 0 2.83L4 21.41c.39.39.9.59 1.41.59.51 0 1.02-.2 1.41-.59l7.78-7.78 2.81-2.81c.8-.78.8-2.07 0-2.86zM5.41 20L4 18.59l7.72-7.72 1.47 1.35L5.41 20z\"/>\n",
              "  </svg>\n",
              "      </button>\n",
              "      \n",
              "  <style>\n",
              "    .colab-df-container {\n",
              "      display:flex;\n",
              "      flex-wrap:wrap;\n",
              "      gap: 12px;\n",
              "    }\n",
              "\n",
              "    .colab-df-convert {\n",
              "      background-color: #E8F0FE;\n",
              "      border: none;\n",
              "      border-radius: 50%;\n",
              "      cursor: pointer;\n",
              "      display: none;\n",
              "      fill: #1967D2;\n",
              "      height: 32px;\n",
              "      padding: 0 0 0 0;\n",
              "      width: 32px;\n",
              "    }\n",
              "\n",
              "    .colab-df-convert:hover {\n",
              "      background-color: #E2EBFA;\n",
              "      box-shadow: 0px 1px 2px rgba(60, 64, 67, 0.3), 0px 1px 3px 1px rgba(60, 64, 67, 0.15);\n",
              "      fill: #174EA6;\n",
              "    }\n",
              "\n",
              "    [theme=dark] .colab-df-convert {\n",
              "      background-color: #3B4455;\n",
              "      fill: #D2E3FC;\n",
              "    }\n",
              "\n",
              "    [theme=dark] .colab-df-convert:hover {\n",
              "      background-color: #434B5C;\n",
              "      box-shadow: 0px 1px 3px 1px rgba(0, 0, 0, 0.15);\n",
              "      filter: drop-shadow(0px 1px 2px rgba(0, 0, 0, 0.3));\n",
              "      fill: #FFFFFF;\n",
              "    }\n",
              "  </style>\n",
              "\n",
              "      <script>\n",
              "        const buttonEl =\n",
              "          document.querySelector('#df-55d59cfd-ba31-4432-a5a3-b395adb0e873 button.colab-df-convert');\n",
              "        buttonEl.style.display =\n",
              "          google.colab.kernel.accessAllowed ? 'block' : 'none';\n",
              "\n",
              "        async function convertToInteractive(key) {\n",
              "          const element = document.querySelector('#df-55d59cfd-ba31-4432-a5a3-b395adb0e873');\n",
              "          const dataTable =\n",
              "            await google.colab.kernel.invokeFunction('convertToInteractive',\n",
              "                                                     [key], {});\n",
              "          if (!dataTable) return;\n",
              "\n",
              "          const docLinkHtml = 'Like what you see? Visit the ' +\n",
              "            '<a target=\"_blank\" href=https://colab.research.google.com/notebooks/data_table.ipynb>data table notebook</a>'\n",
              "            + ' to learn more about interactive tables.';\n",
              "          element.innerHTML = '';\n",
              "          dataTable['output_type'] = 'display_data';\n",
              "          await google.colab.output.renderOutput(dataTable, element);\n",
              "          const docLink = document.createElement('div');\n",
              "          docLink.innerHTML = docLinkHtml;\n",
              "          element.appendChild(docLink);\n",
              "        }\n",
              "      </script>\n",
              "    </div>\n",
              "  </div>\n",
              "  "
            ]
          },
          "metadata": {},
          "execution_count": 100
        }
      ],
      "source": [
        "df_test = pd.DataFrame(columns=['Predicted Labels', 'Actual Labels'])\n",
        "df_test['Predicted Labels'] = y_pred_test.flatten()\n",
        "df_test['Actual Labels'] = y_test.flatten()\n",
        "\n",
        "df_test.head(10)"
      ]
    },
    {
      "cell_type": "code",
      "execution_count": null,
      "metadata": {
        "id": "LxYErd4D7fP8",
        "colab": {
          "base_uri": "https://localhost:8080/",
          "height": 359
        },
        "outputId": "43b3c005-0bb1-4634-8536-312399c80637"
      },
      "outputs": [
        {
          "output_type": "display_data",
          "data": {
            "text/plain": [
              "<Figure size 432x360 with 2 Axes>"
            ],
            "image/png": "[encoded data removed]"
          },
          "metadata": {
            "needs_background": "light"
          }
        }
      ],
      "source": [
        "cm = confusion_matrix(y_test, y_pred_test)\n",
        "plt.figure(figsize = (6, 5))\n",
        "sns.heatmap(cm, linecolor='white', cmap='Blues', linewidth=1, annot=True, fmt='')\n",
        "plt.title('Confusion Matrix', size=20)\n",
        "plt.xlabel('Predicted Labels', size=14)\n",
        "plt.ylabel('Actual Labels', size=14)\n",
        "plt.show()"
      ]
    },
    {
      "cell_type": "code",
      "execution_count": null,
      "metadata": {
        "id": "PK2O1mbg7fP8",
        "colab": {
          "base_uri": "https://localhost:8080/"
        },
        "outputId": "e36957e8-49c6-493d-fd29-09871001868f"
      },
      "outputs": [
        {
          "output_type": "stream",
          "name": "stdout",
          "text": [
            "16/16 [==============================] - 0s 5ms/step\n",
            "16/16 [==============================] - 0s 5ms/step\n",
            "16/16 [==============================] - 0s 5ms/step\n"
          ]
        },
        {
          "output_type": "execute_result",
          "data": {
            "text/plain": [
              "(0.8608837970540099, 0.842948717948718, 0.83)"
            ]
          },
          "metadata": {},
          "execution_count": 102
        }
      ],
      "source": [
        "f1_score(y_test, np.round(model.predict(x_test))),recall_score(y_test, np.round(model.predict(x_test))),accuracy_score(y_test, np.round(model.predict(x_test)))"
      ]
    }
  ],
  "metadata": {
    "kernelspec": {
      "display_name": "TensorFlow",
      "language": "python",
      "name": "python3"
    },
    "language_info": {
      "codemirror_mode": {
        "name": "ipython",
        "version": 3
      },
      "file_extension": ".py",
      "mimetype": "text/x-python",
      "name": "python",
      "nbconvert_exporter": "python",
      "pygments_lexer": "ipython3",
      "version": "3.9.13"
    },
    "orig_nbformat": 4,
    "vscode": {
      "interpreter": {
        "hash": "7842d1971238c40bc91f0e3c4b1f67715db27be3d2f267cdf8f729dc15e9bd8b"
      }
    },
    "colab": {
      "provenance": []
    },
    "accelerator": "GPU",
    "gpuClass": "standard"
  },
  "nbformat": 4,
  "nbformat_minor": 0
}